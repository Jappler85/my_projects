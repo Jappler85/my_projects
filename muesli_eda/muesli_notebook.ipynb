{
 "cells": [
  {
   "cell_type": "code",
   "execution_count": 1,
   "metadata": {},
   "outputs": [],
   "source": [
    "import pandas as pd\n",
    "import numpy as np \n",
    "import matplotlib.pyplot as plt \n",
    "import seaborn as sns\n",
    "import csv "
   ]
  },
  {
   "cell_type": "code",
   "execution_count": 2,
   "metadata": {},
   "outputs": [],
   "source": [
    "df_orders = pd.read_excel(\"./data/Muesli Project raw data.xlsx\", \"Orders\", skiprows=1)\n",
    "df_process = pd.read_excel(\"./data/Muesli Project raw data.xlsx\", \"Order Process Data\")\n",
    "df_intern = pd.read_excel(\"./data/Muesli Project raw data.xlsx\", \"InternData Study\")\n",
    "df_camp = pd.read_excel(\"./data/Muesli Project raw data.xlsx\", \"Campaign Data\")"
   ]
  },
  {
   "cell_type": "code",
   "execution_count": 3,
   "metadata": {},
   "outputs": [],
   "source": [
    "### cleaning column names \n",
    "df_list = [df_orders, df_camp, df_intern, df_process]\n",
    "\n",
    "for df in df_list:\n",
    "    df.columns = df.columns.str.lower()\n",
    "    df.columns = df.columns.str.replace(\" \", \"_\")"
   ]
  },
  {
   "attachments": {},
   "cell_type": "markdown",
   "metadata": {},
   "source": [
    "# Combine Dataframes"
   ]
  },
  {
   "attachments": {},
   "cell_type": "markdown",
   "metadata": {},
   "source": [
    "### Drop Duplicates & check shape"
   ]
  },
  {
   "cell_type": "code",
   "execution_count": 4,
   "metadata": {},
   "outputs": [],
   "source": [
    "### create df_order & df_intern without duplicates \n",
    "df_order_no_dups = df_orders.drop_duplicates(subset=\"order_id\").copy() #drop only duplicates in order_id column\n",
    "df_intern_no_dups = df_intern.drop_duplicates(subset=\"order_id\").copy()\n",
    "df_camp_no_dups = df_camp.drop_duplicates(subset=\"order_id\").copy()\n",
    "df_process_no_dups = df_process.drop_duplicates(subset=\"order_id\").copy()"
   ]
  },
  {
   "cell_type": "code",
   "execution_count": 5,
   "metadata": {},
   "outputs": [
    {
     "data": {
      "text/plain": [
       "(5009, 19)"
      ]
     },
     "metadata": {},
     "output_type": "display_data"
    },
    {
     "data": {
      "text/plain": [
       "(204, 3)"
      ]
     },
     "metadata": {},
     "output_type": "display_data"
    },
    {
     "data": {
      "text/plain": [
       "(333, 3)"
      ]
     },
     "metadata": {},
     "output_type": "display_data"
    },
    {
     "data": {
      "text/plain": [
       "(3002, 5)"
      ]
     },
     "metadata": {},
     "output_type": "display_data"
    }
   ],
   "source": [
    "### check shape \n",
    "display(\n",
    "    df_order_no_dups.shape,\n",
    "    df_intern_no_dups.shape,\n",
    "    df_camp_no_dups.shape,\n",
    "    df_process_no_dups.shape\n",
    ")"
   ]
  },
  {
   "attachments": {},
   "cell_type": "markdown",
   "metadata": {},
   "source": [
    "## Combine to 3 different Dataframes\n",
    "* `combined` = orders + order process\n",
    "* `combined_ready_to_ship` = combined + df_intern\n",
    "* `combined_arrival` = combined + df_camp"
   ]
  },
  {
   "cell_type": "code",
   "execution_count": 6,
   "metadata": {},
   "outputs": [
    {
     "data": {
      "text/plain": [
       "(3002, 23)"
      ]
     },
     "execution_count": 6,
     "metadata": {},
     "output_type": "execute_result"
    }
   ],
   "source": [
    "combined = df_order_no_dups.merge(df_process_no_dups, how=\"inner\", on=\"order_id\")\n",
    "combined.shape"
   ]
  },
  {
   "cell_type": "code",
   "execution_count": 7,
   "metadata": {},
   "outputs": [
    {
     "data": {
      "text/plain": [
       "(204, 25)"
      ]
     },
     "execution_count": 7,
     "metadata": {},
     "output_type": "execute_result"
    }
   ],
   "source": [
    "combined_ready_to_ship = combined.merge(df_intern_no_dups, how=\"inner\", on=\"order_id\")\n",
    "combined_ready_to_ship.shape"
   ]
  },
  {
   "cell_type": "code",
   "execution_count": 8,
   "metadata": {},
   "outputs": [
    {
     "data": {
      "text/plain": [
       "(333, 25)"
      ]
     },
     "execution_count": 8,
     "metadata": {},
     "output_type": "execute_result"
    }
   ],
   "source": [
    "combined_arrival = combined.merge(df_camp_no_dups, how=\"inner\", on=\"order_id\")\n",
    "combined_arrival.shape"
   ]
  },
  {
   "attachments": {},
   "cell_type": "markdown",
   "metadata": {},
   "source": [
    "### work on `combined`\n",
    "* keep only relevant coloumns \n",
    "* create `weekday` columns \n",
    "* check if `order_date` is Mo-Fr\n",
    "* calculate durations"
   ]
  },
  {
   "cell_type": "code",
   "execution_count": 9,
   "metadata": {},
   "outputs": [
    {
     "data": {
      "text/plain": [
       "Index(['index', 'order_id', 'order_date_x', 'ship_mode_x', 'customer_id',\n",
       "       'customer_name', 'origin_channel', 'country/region', 'city', 'state',\n",
       "       'postal_code', 'region', 'category', 'sub-category', 'product_id',\n",
       "       'sales', 'quantity', 'discount', 'profit', 'row_id', 'order_date_y',\n",
       "       'on_truck_scan_date', 'ship_mode_y'],\n",
       "      dtype='object')"
      ]
     },
     "execution_count": 9,
     "metadata": {},
     "output_type": "execute_result"
    }
   ],
   "source": [
    "combined.columns"
   ]
  },
  {
   "attachments": {},
   "cell_type": "markdown",
   "metadata": {},
   "source": [
    "keep relevant columns"
   ]
  },
  {
   "cell_type": "code",
   "execution_count": 10,
   "metadata": {},
   "outputs": [
    {
     "data": {
      "text/html": [
       "<div>\n",
       "<style scoped>\n",
       "    .dataframe tbody tr th:only-of-type {\n",
       "        vertical-align: middle;\n",
       "    }\n",
       "\n",
       "    .dataframe tbody tr th {\n",
       "        vertical-align: top;\n",
       "    }\n",
       "\n",
       "    .dataframe thead th {\n",
       "        text-align: right;\n",
       "    }\n",
       "</style>\n",
       "<table border=\"1\" class=\"dataframe\">\n",
       "  <thead>\n",
       "    <tr style=\"text-align: right;\">\n",
       "      <th></th>\n",
       "      <th>order_id</th>\n",
       "      <th>ship_mode</th>\n",
       "      <th>order_date</th>\n",
       "      <th>on_truck_scan_date</th>\n",
       "    </tr>\n",
       "  </thead>\n",
       "  <tbody>\n",
       "    <tr>\n",
       "      <th>0</th>\n",
       "      <td>CA-2019-121755</td>\n",
       "      <td>Second Class</td>\n",
       "      <td>2019-01-16</td>\n",
       "      <td>2019-01-23</td>\n",
       "    </tr>\n",
       "    <tr>\n",
       "      <th>1</th>\n",
       "      <td>CA-2019-118255</td>\n",
       "      <td>First Class</td>\n",
       "      <td>2019-03-11</td>\n",
       "      <td>2019-03-13</td>\n",
       "    </tr>\n",
       "  </tbody>\n",
       "</table>\n",
       "</div>"
      ],
      "text/plain": [
       "         order_id     ship_mode order_date on_truck_scan_date\n",
       "0  CA-2019-121755  Second Class 2019-01-16         2019-01-23\n",
       "1  CA-2019-118255   First Class 2019-03-11         2019-03-13"
      ]
     },
     "execution_count": 10,
     "metadata": {},
     "output_type": "execute_result"
    }
   ],
   "source": [
    "### keep only relevant columns for shipping time \n",
    "keepers_combined = (['order_id', \n",
    "                    \"ship_mode_x\",\n",
    "                    \"order_date_x\", \n",
    "                    \"on_truck_scan_date\"]\n",
    "                    )\n",
    "\n",
    "combined = combined[keepers_combined]\n",
    "\n",
    "### clean column names\n",
    "combined.columns = combined.columns.str.replace(\"_x\", \"\")\n",
    "combined.head(2)"
   ]
  },
  {
   "attachments": {},
   "cell_type": "markdown",
   "metadata": {},
   "source": [
    "create weekday columns"
   ]
  },
  {
   "cell_type": "code",
   "execution_count": 11,
   "metadata": {},
   "outputs": [
    {
     "data": {
      "text/html": [
       "<div>\n",
       "<style scoped>\n",
       "    .dataframe tbody tr th:only-of-type {\n",
       "        vertical-align: middle;\n",
       "    }\n",
       "\n",
       "    .dataframe tbody tr th {\n",
       "        vertical-align: top;\n",
       "    }\n",
       "\n",
       "    .dataframe thead th {\n",
       "        text-align: right;\n",
       "    }\n",
       "</style>\n",
       "<table border=\"1\" class=\"dataframe\">\n",
       "  <thead>\n",
       "    <tr style=\"text-align: right;\">\n",
       "      <th></th>\n",
       "      <th>order_id</th>\n",
       "      <th>ship_mode</th>\n",
       "      <th>order_date</th>\n",
       "      <th>on_truck_scan_date</th>\n",
       "      <th>order_weekday</th>\n",
       "      <th>order_weekday_int</th>\n",
       "      <th>on_truck_weekday</th>\n",
       "      <th>on_truck_weekday_int</th>\n",
       "    </tr>\n",
       "  </thead>\n",
       "  <tbody>\n",
       "    <tr>\n",
       "      <th>0</th>\n",
       "      <td>CA-2019-121755</td>\n",
       "      <td>Second Class</td>\n",
       "      <td>2019-01-16</td>\n",
       "      <td>2019-01-23</td>\n",
       "      <td>Wednesday</td>\n",
       "      <td>2</td>\n",
       "      <td>Wednesday</td>\n",
       "      <td>2</td>\n",
       "    </tr>\n",
       "    <tr>\n",
       "      <th>1</th>\n",
       "      <td>CA-2019-118255</td>\n",
       "      <td>First Class</td>\n",
       "      <td>2019-03-11</td>\n",
       "      <td>2019-03-13</td>\n",
       "      <td>Monday</td>\n",
       "      <td>0</td>\n",
       "      <td>Wednesday</td>\n",
       "      <td>2</td>\n",
       "    </tr>\n",
       "    <tr>\n",
       "      <th>2</th>\n",
       "      <td>CA-2019-169194</td>\n",
       "      <td>Standard Class</td>\n",
       "      <td>2019-06-20</td>\n",
       "      <td>2019-06-26</td>\n",
       "      <td>Thursday</td>\n",
       "      <td>3</td>\n",
       "      <td>Wednesday</td>\n",
       "      <td>2</td>\n",
       "    </tr>\n",
       "  </tbody>\n",
       "</table>\n",
       "</div>"
      ],
      "text/plain": [
       "         order_id       ship_mode order_date on_truck_scan_date order_weekday  \\\n",
       "0  CA-2019-121755    Second Class 2019-01-16         2019-01-23     Wednesday   \n",
       "1  CA-2019-118255     First Class 2019-03-11         2019-03-13        Monday   \n",
       "2  CA-2019-169194  Standard Class 2019-06-20         2019-06-26      Thursday   \n",
       "\n",
       "   order_weekday_int on_truck_weekday  on_truck_weekday_int  \n",
       "0                  2        Wednesday                     2  \n",
       "1                  0        Wednesday                     2  \n",
       "2                  3        Wednesday                     2  "
      ]
     },
     "execution_count": 11,
     "metadata": {},
     "output_type": "execute_result"
    }
   ],
   "source": [
    "combined[\"order_weekday\"] = combined[\"order_date\"].dt.day_name()\n",
    "combined[\"order_weekday_int\"] = combined[\"order_date\"].dt.weekday\n",
    "\n",
    "combined[\"on_truck_weekday\"] = combined[\"on_truck_scan_date\"].dt.day_name()\n",
    "combined[\"on_truck_weekday_int\"] = combined[\"on_truck_scan_date\"].dt.weekday\n",
    "\n",
    "combined.head(3)"
   ]
  },
  {
   "attachments": {},
   "cell_type": "markdown",
   "metadata": {},
   "source": [
    "check if order date is Mo-Fri --> new column `order_is_weekday`"
   ]
  },
  {
   "cell_type": "code",
   "execution_count": 12,
   "metadata": {},
   "outputs": [
    {
     "data": {
      "text/html": [
       "<div>\n",
       "<style scoped>\n",
       "    .dataframe tbody tr th:only-of-type {\n",
       "        vertical-align: middle;\n",
       "    }\n",
       "\n",
       "    .dataframe tbody tr th {\n",
       "        vertical-align: top;\n",
       "    }\n",
       "\n",
       "    .dataframe thead th {\n",
       "        text-align: right;\n",
       "    }\n",
       "</style>\n",
       "<table border=\"1\" class=\"dataframe\">\n",
       "  <thead>\n",
       "    <tr style=\"text-align: right;\">\n",
       "      <th></th>\n",
       "      <th>order_id</th>\n",
       "      <th>ship_mode</th>\n",
       "      <th>order_date</th>\n",
       "      <th>on_truck_scan_date</th>\n",
       "      <th>order_weekday</th>\n",
       "      <th>order_weekday_int</th>\n",
       "      <th>on_truck_weekday</th>\n",
       "      <th>on_truck_weekday_int</th>\n",
       "      <th>order_is_weekday</th>\n",
       "      <th>on_truck_is_mowefr</th>\n",
       "    </tr>\n",
       "  </thead>\n",
       "  <tbody>\n",
       "    <tr>\n",
       "      <th>0</th>\n",
       "      <td>CA-2019-121755</td>\n",
       "      <td>Second Class</td>\n",
       "      <td>2019-01-16</td>\n",
       "      <td>2019-01-23</td>\n",
       "      <td>Wednesday</td>\n",
       "      <td>2</td>\n",
       "      <td>Wednesday</td>\n",
       "      <td>2</td>\n",
       "      <td>1</td>\n",
       "      <td>1</td>\n",
       "    </tr>\n",
       "    <tr>\n",
       "      <th>1</th>\n",
       "      <td>CA-2019-118255</td>\n",
       "      <td>First Class</td>\n",
       "      <td>2019-03-11</td>\n",
       "      <td>2019-03-13</td>\n",
       "      <td>Monday</td>\n",
       "      <td>0</td>\n",
       "      <td>Wednesday</td>\n",
       "      <td>2</td>\n",
       "      <td>1</td>\n",
       "      <td>1</td>\n",
       "    </tr>\n",
       "  </tbody>\n",
       "</table>\n",
       "</div>"
      ],
      "text/plain": [
       "         order_id     ship_mode order_date on_truck_scan_date order_weekday  \\\n",
       "0  CA-2019-121755  Second Class 2019-01-16         2019-01-23     Wednesday   \n",
       "1  CA-2019-118255   First Class 2019-03-11         2019-03-13        Monday   \n",
       "\n",
       "   order_weekday_int on_truck_weekday  on_truck_weekday_int  order_is_weekday  \\\n",
       "0                  2        Wednesday                     2                 1   \n",
       "1                  0        Wednesday                     2                 1   \n",
       "\n",
       "   on_truck_is_mowefr  \n",
       "0                   1  \n",
       "1                   1  "
      ]
     },
     "execution_count": 12,
     "metadata": {},
     "output_type": "execute_result"
    }
   ],
   "source": [
    "### create column with values 0 or 1 for weekend/weekday\n",
    "mo_fr = [0,1,2,3,4]\n",
    "mo_we_fr = [0, 2, 4]\n",
    "\n",
    "combined[\"order_is_weekday\"] = np.where(combined[\"order_weekday_int\"].isin(mo_fr), 1, 0)\n",
    "combined[\"on_truck_is_mowefr\"] = np.where(combined[\"on_truck_weekday_int\"].isin(mo_we_fr), 1, 0)\n",
    "\n",
    "combined.head(2)"
   ]
  },
  {
   "attachments": {},
   "cell_type": "markdown",
   "metadata": {},
   "source": [
    "calculate duration `dur_order_to_truck` \n",
    "--> how long does it take from order received until it is in the truck (phase 1+2)"
   ]
  },
  {
   "cell_type": "code",
   "execution_count": 13,
   "metadata": {},
   "outputs": [
    {
     "data": {
      "text/html": [
       "<div>\n",
       "<style scoped>\n",
       "    .dataframe tbody tr th:only-of-type {\n",
       "        vertical-align: middle;\n",
       "    }\n",
       "\n",
       "    .dataframe tbody tr th {\n",
       "        vertical-align: top;\n",
       "    }\n",
       "\n",
       "    .dataframe thead th {\n",
       "        text-align: right;\n",
       "    }\n",
       "</style>\n",
       "<table border=\"1\" class=\"dataframe\">\n",
       "  <thead>\n",
       "    <tr style=\"text-align: right;\">\n",
       "      <th></th>\n",
       "      <th>order_id</th>\n",
       "      <th>ship_mode</th>\n",
       "      <th>order_date</th>\n",
       "      <th>on_truck_scan_date</th>\n",
       "      <th>order_weekday</th>\n",
       "      <th>order_weekday_int</th>\n",
       "      <th>on_truck_weekday</th>\n",
       "      <th>on_truck_weekday_int</th>\n",
       "      <th>order_is_weekday</th>\n",
       "      <th>on_truck_is_mowefr</th>\n",
       "      <th>dur_order_to_truck</th>\n",
       "    </tr>\n",
       "  </thead>\n",
       "  <tbody>\n",
       "    <tr>\n",
       "      <th>0</th>\n",
       "      <td>CA-2019-121755</td>\n",
       "      <td>Second Class</td>\n",
       "      <td>2019-01-16</td>\n",
       "      <td>2019-01-23</td>\n",
       "      <td>Wednesday</td>\n",
       "      <td>2</td>\n",
       "      <td>Wednesday</td>\n",
       "      <td>2</td>\n",
       "      <td>1</td>\n",
       "      <td>1</td>\n",
       "      <td>7</td>\n",
       "    </tr>\n",
       "    <tr>\n",
       "      <th>1</th>\n",
       "      <td>CA-2019-118255</td>\n",
       "      <td>First Class</td>\n",
       "      <td>2019-03-11</td>\n",
       "      <td>2019-03-13</td>\n",
       "      <td>Monday</td>\n",
       "      <td>0</td>\n",
       "      <td>Wednesday</td>\n",
       "      <td>2</td>\n",
       "      <td>1</td>\n",
       "      <td>1</td>\n",
       "      <td>2</td>\n",
       "    </tr>\n",
       "  </tbody>\n",
       "</table>\n",
       "</div>"
      ],
      "text/plain": [
       "         order_id     ship_mode order_date on_truck_scan_date order_weekday  \\\n",
       "0  CA-2019-121755  Second Class 2019-01-16         2019-01-23     Wednesday   \n",
       "1  CA-2019-118255   First Class 2019-03-11         2019-03-13        Monday   \n",
       "\n",
       "   order_weekday_int on_truck_weekday  on_truck_weekday_int  order_is_weekday  \\\n",
       "0                  2        Wednesday                     2                 1   \n",
       "1                  0        Wednesday                     2                 1   \n",
       "\n",
       "   on_truck_is_mowefr  dur_order_to_truck  \n",
       "0                   1                   7  \n",
       "1                   1                   2  "
      ]
     },
     "execution_count": 13,
     "metadata": {},
     "output_type": "execute_result"
    }
   ],
   "source": [
    "combined[\"dur_order_to_truck\"] = (combined[\"on_truck_scan_date\"] - combined[\"order_date\"]).dt.days\n",
    "combined.head(2)"
   ]
  },
  {
   "cell_type": "code",
   "execution_count": 14,
   "metadata": {},
   "outputs": [
    {
     "data": {
      "text/html": [
       "<div>\n",
       "<style scoped>\n",
       "    .dataframe tbody tr th:only-of-type {\n",
       "        vertical-align: middle;\n",
       "    }\n",
       "\n",
       "    .dataframe tbody tr th {\n",
       "        vertical-align: top;\n",
       "    }\n",
       "\n",
       "    .dataframe thead th {\n",
       "        text-align: right;\n",
       "    }\n",
       "</style>\n",
       "<table border=\"1\" class=\"dataframe\">\n",
       "  <thead>\n",
       "    <tr style=\"text-align: right;\">\n",
       "      <th></th>\n",
       "      <th>order_is_weekday</th>\n",
       "      <th>dur_order_to_truck</th>\n",
       "    </tr>\n",
       "  </thead>\n",
       "  <tbody>\n",
       "    <tr>\n",
       "      <th>order_is_weekday</th>\n",
       "      <td>1.000000</td>\n",
       "      <td>-0.115309</td>\n",
       "    </tr>\n",
       "    <tr>\n",
       "      <th>dur_order_to_truck</th>\n",
       "      <td>-0.115309</td>\n",
       "      <td>1.000000</td>\n",
       "    </tr>\n",
       "  </tbody>\n",
       "</table>\n",
       "</div>"
      ],
      "text/plain": [
       "                    order_is_weekday  dur_order_to_truck\n",
       "order_is_weekday            1.000000           -0.115309\n",
       "dur_order_to_truck         -0.115309            1.000000"
      ]
     },
     "execution_count": 14,
     "metadata": {},
     "output_type": "execute_result"
    }
   ],
   "source": [
    "combined[[\"order_is_weekday\", \"dur_order_to_truck\"]].corr(numeric_only=True)"
   ]
  },
  {
   "attachments": {},
   "cell_type": "markdown",
   "metadata": {},
   "source": [
    "set variables for combined"
   ]
  },
  {
   "cell_type": "code",
   "execution_count": 15,
   "metadata": {},
   "outputs": [],
   "source": [
    "### phase 1+2\n",
    "values_order_to_truck = combined[\"dur_order_to_truck\"]"
   ]
  },
  {
   "cell_type": "code",
   "execution_count": 16,
   "metadata": {},
   "outputs": [
    {
     "data": {
      "text/plain": [
       "<AxesSubplot: >"
      ]
     },
     "execution_count": 16,
     "metadata": {},
     "output_type": "execute_result"
    },
    {
     "data": {
      "image/png": "[encoded data removed]",
      "text/plain": [
       "<Figure size 640x480 with 1 Axes>"
      ]
     },
     "metadata": {},
     "output_type": "display_data"
    }
   ],
   "source": [
    "values_order_to_truck.plot.box()"
   ]
  },
  {
   "attachments": {},
   "cell_type": "markdown",
   "metadata": {},
   "source": [
    "### work on combined_ready_to_ship\n",
    "\n",
    "* keep only relevant coloumns \n",
    "* create `weekday` columns \n",
    "* check if `order_date` is Mo-Fr\n",
    "* calculate durations"
   ]
  },
  {
   "cell_type": "code",
   "execution_count": 17,
   "metadata": {},
   "outputs": [
    {
     "data": {
      "text/plain": [
       "Index(['index', 'order_id', 'order_date_x', 'ship_mode_x', 'customer_id',\n",
       "       'customer_name', 'origin_channel', 'country/region', 'city', 'state',\n",
       "       'postal_code', 'region', 'category', 'sub-category', 'product_id',\n",
       "       'sales', 'quantity', 'discount', 'profit', 'row_id', 'order_date_y',\n",
       "       'on_truck_scan_date', 'ship_mode_y', 'ready_to_ship_date',\n",
       "       'pickup_date'],\n",
       "      dtype='object')"
      ]
     },
     "execution_count": 17,
     "metadata": {},
     "output_type": "execute_result"
    }
   ],
   "source": [
    "combined_ready_to_ship.columns"
   ]
  },
  {
   "attachments": {},
   "cell_type": "markdown",
   "metadata": {},
   "source": [
    "keep relevant columns"
   ]
  },
  {
   "cell_type": "code",
   "execution_count": 18,
   "metadata": {},
   "outputs": [
    {
     "data": {
      "text/html": [
       "<div>\n",
       "<style scoped>\n",
       "    .dataframe tbody tr th:only-of-type {\n",
       "        vertical-align: middle;\n",
       "    }\n",
       "\n",
       "    .dataframe tbody tr th {\n",
       "        vertical-align: top;\n",
       "    }\n",
       "\n",
       "    .dataframe thead th {\n",
       "        text-align: right;\n",
       "    }\n",
       "</style>\n",
       "<table border=\"1\" class=\"dataframe\">\n",
       "  <thead>\n",
       "    <tr style=\"text-align: right;\">\n",
       "      <th></th>\n",
       "      <th>order_id</th>\n",
       "      <th>ship_mode</th>\n",
       "      <th>order_date</th>\n",
       "      <th>ready_to_ship_date</th>\n",
       "      <th>on_truck_scan_date</th>\n",
       "    </tr>\n",
       "  </thead>\n",
       "  <tbody>\n",
       "    <tr>\n",
       "      <th>0</th>\n",
       "      <td>CA-2020-119004</td>\n",
       "      <td>Standard Class</td>\n",
       "      <td>2020-11-23</td>\n",
       "      <td>2020-11-30</td>\n",
       "      <td>2020-12-02</td>\n",
       "    </tr>\n",
       "    <tr>\n",
       "      <th>1</th>\n",
       "      <td>CA-2019-145625</td>\n",
       "      <td>Standard Class</td>\n",
       "      <td>2019-09-11</td>\n",
       "      <td>2019-09-17</td>\n",
       "      <td>2019-09-18</td>\n",
       "    </tr>\n",
       "  </tbody>\n",
       "</table>\n",
       "</div>"
      ],
      "text/plain": [
       "         order_id       ship_mode order_date ready_to_ship_date  \\\n",
       "0  CA-2020-119004  Standard Class 2020-11-23         2020-11-30   \n",
       "1  CA-2019-145625  Standard Class 2019-09-11         2019-09-17   \n",
       "\n",
       "  on_truck_scan_date  \n",
       "0         2020-12-02  \n",
       "1         2019-09-18  "
      ]
     },
     "execution_count": 18,
     "metadata": {},
     "output_type": "execute_result"
    }
   ],
   "source": [
    "### keep only relevant columns for shipping time \n",
    "ready_to_ship_keepers = (['order_id', \n",
    "                        \"ship_mode_x\",\n",
    "                        \"order_date_x\",\n",
    "                        \"ready_to_ship_date\",\n",
    "                        \"on_truck_scan_date\"]\n",
    "                        )\n",
    "\n",
    "combined_ready_to_ship = combined_ready_to_ship[ready_to_ship_keepers]\n",
    "\n",
    "### clean column names\n",
    "combined_ready_to_ship.columns = combined_ready_to_ship.columns.str.replace(\"_x\", \"\")\n",
    "combined_ready_to_ship.head(2)"
   ]
  },
  {
   "attachments": {},
   "cell_type": "markdown",
   "metadata": {},
   "source": [
    "create weekday columns"
   ]
  },
  {
   "cell_type": "code",
   "execution_count": 19,
   "metadata": {},
   "outputs": [
    {
     "data": {
      "text/html": [
       "<div>\n",
       "<style scoped>\n",
       "    .dataframe tbody tr th:only-of-type {\n",
       "        vertical-align: middle;\n",
       "    }\n",
       "\n",
       "    .dataframe tbody tr th {\n",
       "        vertical-align: top;\n",
       "    }\n",
       "\n",
       "    .dataframe thead th {\n",
       "        text-align: right;\n",
       "    }\n",
       "</style>\n",
       "<table border=\"1\" class=\"dataframe\">\n",
       "  <thead>\n",
       "    <tr style=\"text-align: right;\">\n",
       "      <th></th>\n",
       "      <th>order_id</th>\n",
       "      <th>ship_mode</th>\n",
       "      <th>order_date</th>\n",
       "      <th>ready_to_ship_date</th>\n",
       "      <th>on_truck_scan_date</th>\n",
       "      <th>order_weekday</th>\n",
       "      <th>order_weekday_int</th>\n",
       "      <th>ready_to_ship_weekday</th>\n",
       "      <th>ready_to_ship_weekday_int</th>\n",
       "      <th>on_truck_weekday</th>\n",
       "      <th>on_truck_weekday_int</th>\n",
       "    </tr>\n",
       "  </thead>\n",
       "  <tbody>\n",
       "    <tr>\n",
       "      <th>0</th>\n",
       "      <td>CA-2020-119004</td>\n",
       "      <td>Standard Class</td>\n",
       "      <td>2020-11-23</td>\n",
       "      <td>2020-11-30</td>\n",
       "      <td>2020-12-02</td>\n",
       "      <td>Monday</td>\n",
       "      <td>0</td>\n",
       "      <td>Monday</td>\n",
       "      <td>0</td>\n",
       "      <td>Wednesday</td>\n",
       "      <td>2</td>\n",
       "    </tr>\n",
       "    <tr>\n",
       "      <th>1</th>\n",
       "      <td>CA-2019-145625</td>\n",
       "      <td>Standard Class</td>\n",
       "      <td>2019-09-11</td>\n",
       "      <td>2019-09-17</td>\n",
       "      <td>2019-09-18</td>\n",
       "      <td>Wednesday</td>\n",
       "      <td>2</td>\n",
       "      <td>Tuesday</td>\n",
       "      <td>1</td>\n",
       "      <td>Wednesday</td>\n",
       "      <td>2</td>\n",
       "    </tr>\n",
       "  </tbody>\n",
       "</table>\n",
       "</div>"
      ],
      "text/plain": [
       "         order_id       ship_mode order_date ready_to_ship_date  \\\n",
       "0  CA-2020-119004  Standard Class 2020-11-23         2020-11-30   \n",
       "1  CA-2019-145625  Standard Class 2019-09-11         2019-09-17   \n",
       "\n",
       "  on_truck_scan_date order_weekday  order_weekday_int ready_to_ship_weekday  \\\n",
       "0         2020-12-02        Monday                  0                Monday   \n",
       "1         2019-09-18     Wednesday                  2               Tuesday   \n",
       "\n",
       "   ready_to_ship_weekday_int on_truck_weekday  on_truck_weekday_int  \n",
       "0                          0        Wednesday                     2  \n",
       "1                          1        Wednesday                     2  "
      ]
     },
     "execution_count": 19,
     "metadata": {},
     "output_type": "execute_result"
    }
   ],
   "source": [
    "### create weekday columns for order_weekday & ready_to_ship_date \n",
    "### also in _int\n",
    "combined_ready_to_ship[\"order_weekday\"] = combined_ready_to_ship[\"order_date\"].dt.day_name()\n",
    "combined_ready_to_ship[\"order_weekday_int\"] = combined_ready_to_ship[\"order_date\"].dt.weekday\n",
    "\n",
    "combined_ready_to_ship[\"ready_to_ship_weekday\"] = combined_ready_to_ship[\"ready_to_ship_date\"].dt.day_name()\n",
    "combined_ready_to_ship[\"ready_to_ship_weekday_int\"] = combined_ready_to_ship[\"ready_to_ship_date\"].dt.weekday\n",
    "\n",
    "combined_ready_to_ship[\"on_truck_weekday\"] = combined_ready_to_ship[\"on_truck_scan_date\"].dt.day_name()\n",
    "combined_ready_to_ship[\"on_truck_weekday_int\"] = combined_ready_to_ship[\"on_truck_scan_date\"].dt.weekday\n",
    "\n",
    "combined_ready_to_ship.head(2)"
   ]
  },
  {
   "attachments": {},
   "cell_type": "markdown",
   "metadata": {},
   "source": [
    "check if order date is Mo-Fri // Mo-We-Fr"
   ]
  },
  {
   "cell_type": "code",
   "execution_count": 20,
   "metadata": {},
   "outputs": [
    {
     "data": {
      "text/html": [
       "<div>\n",
       "<style scoped>\n",
       "    .dataframe tbody tr th:only-of-type {\n",
       "        vertical-align: middle;\n",
       "    }\n",
       "\n",
       "    .dataframe tbody tr th {\n",
       "        vertical-align: top;\n",
       "    }\n",
       "\n",
       "    .dataframe thead th {\n",
       "        text-align: right;\n",
       "    }\n",
       "</style>\n",
       "<table border=\"1\" class=\"dataframe\">\n",
       "  <thead>\n",
       "    <tr style=\"text-align: right;\">\n",
       "      <th></th>\n",
       "      <th>order_id</th>\n",
       "      <th>ship_mode</th>\n",
       "      <th>order_date</th>\n",
       "      <th>ready_to_ship_date</th>\n",
       "      <th>on_truck_scan_date</th>\n",
       "      <th>order_weekday</th>\n",
       "      <th>order_weekday_int</th>\n",
       "      <th>ready_to_ship_weekday</th>\n",
       "      <th>ready_to_ship_weekday_int</th>\n",
       "      <th>on_truck_weekday</th>\n",
       "      <th>on_truck_weekday_int</th>\n",
       "      <th>order_is_weekday</th>\n",
       "      <th>truck_scan_is_mowefr</th>\n",
       "      <th>ready_to_ship_is_mowefr</th>\n",
       "    </tr>\n",
       "  </thead>\n",
       "  <tbody>\n",
       "    <tr>\n",
       "      <th>0</th>\n",
       "      <td>CA-2020-119004</td>\n",
       "      <td>Standard Class</td>\n",
       "      <td>2020-11-23</td>\n",
       "      <td>2020-11-30</td>\n",
       "      <td>2020-12-02</td>\n",
       "      <td>Monday</td>\n",
       "      <td>0</td>\n",
       "      <td>Monday</td>\n",
       "      <td>0</td>\n",
       "      <td>Wednesday</td>\n",
       "      <td>2</td>\n",
       "      <td>1</td>\n",
       "      <td>1</td>\n",
       "      <td>1</td>\n",
       "    </tr>\n",
       "    <tr>\n",
       "      <th>1</th>\n",
       "      <td>CA-2019-145625</td>\n",
       "      <td>Standard Class</td>\n",
       "      <td>2019-09-11</td>\n",
       "      <td>2019-09-17</td>\n",
       "      <td>2019-09-18</td>\n",
       "      <td>Wednesday</td>\n",
       "      <td>2</td>\n",
       "      <td>Tuesday</td>\n",
       "      <td>1</td>\n",
       "      <td>Wednesday</td>\n",
       "      <td>2</td>\n",
       "      <td>1</td>\n",
       "      <td>1</td>\n",
       "      <td>0</td>\n",
       "    </tr>\n",
       "  </tbody>\n",
       "</table>\n",
       "</div>"
      ],
      "text/plain": [
       "         order_id       ship_mode order_date ready_to_ship_date  \\\n",
       "0  CA-2020-119004  Standard Class 2020-11-23         2020-11-30   \n",
       "1  CA-2019-145625  Standard Class 2019-09-11         2019-09-17   \n",
       "\n",
       "  on_truck_scan_date order_weekday  order_weekday_int ready_to_ship_weekday  \\\n",
       "0         2020-12-02        Monday                  0                Monday   \n",
       "1         2019-09-18     Wednesday                  2               Tuesday   \n",
       "\n",
       "   ready_to_ship_weekday_int on_truck_weekday  on_truck_weekday_int  \\\n",
       "0                          0        Wednesday                     2   \n",
       "1                          1        Wednesday                     2   \n",
       "\n",
       "   order_is_weekday  truck_scan_is_mowefr  ready_to_ship_is_mowefr  \n",
       "0                 1                     1                        1  \n",
       "1                 1                     1                        0  "
      ]
     },
     "execution_count": 20,
     "metadata": {},
     "output_type": "execute_result"
    }
   ],
   "source": [
    "### create columns with values 1 or 0 for weekday/weekend RESP. 1 or 0 for MoWeFr or other days \n",
    "\n",
    "mo_fr = [0, 1, 2, 3, 4]\n",
    "mo_we_fr = [0, 2, 4]\n",
    "\n",
    "combined_ready_to_ship[\"order_is_weekday\"] = np.where(combined_ready_to_ship[\"order_weekday_int\"].isin(mo_fr), 1, 0)\n",
    "combined_ready_to_ship[\"truck_scan_is_mowefr\"] = np.where(combined_ready_to_ship[\"on_truck_weekday_int\"].isin(mo_we_fr), 1, 0)\n",
    "combined_ready_to_ship[\"ready_to_ship_is_mowefr\"] = np.where(combined_ready_to_ship[\"ready_to_ship_weekday_int\"].isin(mo_we_fr), 1, 0)       \n",
    "\n",
    "combined_ready_to_ship.head(2)"
   ]
  },
  {
   "attachments": {},
   "cell_type": "markdown",
   "metadata": {},
   "source": [
    "calculate duration `order_to_ready2ship` \n",
    "--> how long does it take from order received until it is ready to ship (phase 1)"
   ]
  },
  {
   "cell_type": "code",
   "execution_count": 21,
   "metadata": {},
   "outputs": [
    {
     "data": {
      "text/html": [
       "<div>\n",
       "<style scoped>\n",
       "    .dataframe tbody tr th:only-of-type {\n",
       "        vertical-align: middle;\n",
       "    }\n",
       "\n",
       "    .dataframe tbody tr th {\n",
       "        vertical-align: top;\n",
       "    }\n",
       "\n",
       "    .dataframe thead th {\n",
       "        text-align: right;\n",
       "    }\n",
       "</style>\n",
       "<table border=\"1\" class=\"dataframe\">\n",
       "  <thead>\n",
       "    <tr style=\"text-align: right;\">\n",
       "      <th></th>\n",
       "      <th>order_id</th>\n",
       "      <th>ship_mode</th>\n",
       "      <th>order_date</th>\n",
       "      <th>ready_to_ship_date</th>\n",
       "      <th>on_truck_scan_date</th>\n",
       "      <th>order_weekday</th>\n",
       "      <th>order_weekday_int</th>\n",
       "      <th>ready_to_ship_weekday</th>\n",
       "      <th>ready_to_ship_weekday_int</th>\n",
       "      <th>on_truck_weekday</th>\n",
       "      <th>on_truck_weekday_int</th>\n",
       "      <th>order_is_weekday</th>\n",
       "      <th>truck_scan_is_mowefr</th>\n",
       "      <th>ready_to_ship_is_mowefr</th>\n",
       "      <th>dur_order_to_ready2ship</th>\n",
       "    </tr>\n",
       "  </thead>\n",
       "  <tbody>\n",
       "    <tr>\n",
       "      <th>0</th>\n",
       "      <td>CA-2020-119004</td>\n",
       "      <td>Standard Class</td>\n",
       "      <td>2020-11-23</td>\n",
       "      <td>2020-11-30</td>\n",
       "      <td>2020-12-02</td>\n",
       "      <td>Monday</td>\n",
       "      <td>0</td>\n",
       "      <td>Monday</td>\n",
       "      <td>0</td>\n",
       "      <td>Wednesday</td>\n",
       "      <td>2</td>\n",
       "      <td>1</td>\n",
       "      <td>1</td>\n",
       "      <td>1</td>\n",
       "      <td>7</td>\n",
       "    </tr>\n",
       "    <tr>\n",
       "      <th>1</th>\n",
       "      <td>CA-2019-145625</td>\n",
       "      <td>Standard Class</td>\n",
       "      <td>2019-09-11</td>\n",
       "      <td>2019-09-17</td>\n",
       "      <td>2019-09-18</td>\n",
       "      <td>Wednesday</td>\n",
       "      <td>2</td>\n",
       "      <td>Tuesday</td>\n",
       "      <td>1</td>\n",
       "      <td>Wednesday</td>\n",
       "      <td>2</td>\n",
       "      <td>1</td>\n",
       "      <td>1</td>\n",
       "      <td>0</td>\n",
       "      <td>6</td>\n",
       "    </tr>\n",
       "  </tbody>\n",
       "</table>\n",
       "</div>"
      ],
      "text/plain": [
       "         order_id       ship_mode order_date ready_to_ship_date  \\\n",
       "0  CA-2020-119004  Standard Class 2020-11-23         2020-11-30   \n",
       "1  CA-2019-145625  Standard Class 2019-09-11         2019-09-17   \n",
       "\n",
       "  on_truck_scan_date order_weekday  order_weekday_int ready_to_ship_weekday  \\\n",
       "0         2020-12-02        Monday                  0                Monday   \n",
       "1         2019-09-18     Wednesday                  2               Tuesday   \n",
       "\n",
       "   ready_to_ship_weekday_int on_truck_weekday  on_truck_weekday_int  \\\n",
       "0                          0        Wednesday                     2   \n",
       "1                          1        Wednesday                     2   \n",
       "\n",
       "   order_is_weekday  truck_scan_is_mowefr  ready_to_ship_is_mowefr  \\\n",
       "0                 1                     1                        1   \n",
       "1                 1                     1                        0   \n",
       "\n",
       "   dur_order_to_ready2ship  \n",
       "0                        7  \n",
       "1                        6  "
      ]
     },
     "execution_count": 21,
     "metadata": {},
     "output_type": "execute_result"
    }
   ],
   "source": [
    "combined_ready_to_ship[\"dur_order_to_ready2ship\"] = (\n",
    "                                                    (combined_ready_to_ship[\"ready_to_ship_date\"] \n",
    "                                                    - combined_ready_to_ship[\"order_date\"])\n",
    "                                                    .dt.days\n",
    "                                                    )\n",
    "\n",
    "combined_ready_to_ship.head(2)"
   ]
  },
  {
   "attachments": {},
   "cell_type": "markdown",
   "metadata": {},
   "source": [
    "calculate duration `dur_ready2ship_to_ontruck` \n",
    "--> how long does it take from order is ready to ship until it is in truck (phase 2)"
   ]
  },
  {
   "cell_type": "code",
   "execution_count": 22,
   "metadata": {},
   "outputs": [
    {
     "data": {
      "text/html": [
       "<div>\n",
       "<style scoped>\n",
       "    .dataframe tbody tr th:only-of-type {\n",
       "        vertical-align: middle;\n",
       "    }\n",
       "\n",
       "    .dataframe tbody tr th {\n",
       "        vertical-align: top;\n",
       "    }\n",
       "\n",
       "    .dataframe thead th {\n",
       "        text-align: right;\n",
       "    }\n",
       "</style>\n",
       "<table border=\"1\" class=\"dataframe\">\n",
       "  <thead>\n",
       "    <tr style=\"text-align: right;\">\n",
       "      <th></th>\n",
       "      <th>order_id</th>\n",
       "      <th>ship_mode</th>\n",
       "      <th>order_date</th>\n",
       "      <th>ready_to_ship_date</th>\n",
       "      <th>on_truck_scan_date</th>\n",
       "      <th>order_weekday</th>\n",
       "      <th>order_weekday_int</th>\n",
       "      <th>ready_to_ship_weekday</th>\n",
       "      <th>ready_to_ship_weekday_int</th>\n",
       "      <th>on_truck_weekday</th>\n",
       "      <th>on_truck_weekday_int</th>\n",
       "      <th>order_is_weekday</th>\n",
       "      <th>truck_scan_is_mowefr</th>\n",
       "      <th>ready_to_ship_is_mowefr</th>\n",
       "      <th>dur_order_to_ready2ship</th>\n",
       "      <th>dur_ready2ship_to_ontruck</th>\n",
       "    </tr>\n",
       "  </thead>\n",
       "  <tbody>\n",
       "    <tr>\n",
       "      <th>0</th>\n",
       "      <td>CA-2020-119004</td>\n",
       "      <td>Standard Class</td>\n",
       "      <td>2020-11-23</td>\n",
       "      <td>2020-11-30</td>\n",
       "      <td>2020-12-02</td>\n",
       "      <td>Monday</td>\n",
       "      <td>0</td>\n",
       "      <td>Monday</td>\n",
       "      <td>0</td>\n",
       "      <td>Wednesday</td>\n",
       "      <td>2</td>\n",
       "      <td>1</td>\n",
       "      <td>1</td>\n",
       "      <td>1</td>\n",
       "      <td>7</td>\n",
       "      <td>2</td>\n",
       "    </tr>\n",
       "    <tr>\n",
       "      <th>1</th>\n",
       "      <td>CA-2019-145625</td>\n",
       "      <td>Standard Class</td>\n",
       "      <td>2019-09-11</td>\n",
       "      <td>2019-09-17</td>\n",
       "      <td>2019-09-18</td>\n",
       "      <td>Wednesday</td>\n",
       "      <td>2</td>\n",
       "      <td>Tuesday</td>\n",
       "      <td>1</td>\n",
       "      <td>Wednesday</td>\n",
       "      <td>2</td>\n",
       "      <td>1</td>\n",
       "      <td>1</td>\n",
       "      <td>0</td>\n",
       "      <td>6</td>\n",
       "      <td>1</td>\n",
       "    </tr>\n",
       "  </tbody>\n",
       "</table>\n",
       "</div>"
      ],
      "text/plain": [
       "         order_id       ship_mode order_date ready_to_ship_date  \\\n",
       "0  CA-2020-119004  Standard Class 2020-11-23         2020-11-30   \n",
       "1  CA-2019-145625  Standard Class 2019-09-11         2019-09-17   \n",
       "\n",
       "  on_truck_scan_date order_weekday  order_weekday_int ready_to_ship_weekday  \\\n",
       "0         2020-12-02        Monday                  0                Monday   \n",
       "1         2019-09-18     Wednesday                  2               Tuesday   \n",
       "\n",
       "   ready_to_ship_weekday_int on_truck_weekday  on_truck_weekday_int  \\\n",
       "0                          0        Wednesday                     2   \n",
       "1                          1        Wednesday                     2   \n",
       "\n",
       "   order_is_weekday  truck_scan_is_mowefr  ready_to_ship_is_mowefr  \\\n",
       "0                 1                     1                        1   \n",
       "1                 1                     1                        0   \n",
       "\n",
       "   dur_order_to_ready2ship  dur_ready2ship_to_ontruck  \n",
       "0                        7                          2  \n",
       "1                        6                          1  "
      ]
     },
     "execution_count": 22,
     "metadata": {},
     "output_type": "execute_result"
    }
   ],
   "source": [
    "combined_ready_to_ship[\"dur_ready2ship_to_ontruck\"] = (\n",
    "                                                    (combined_ready_to_ship[\"on_truck_scan_date\"] \n",
    "                                                    - combined_ready_to_ship[\"ready_to_ship_date\"])\n",
    "                                                    .dt.days\n",
    "                                                    )\n",
    "\n",
    "combined_ready_to_ship.head(2)"
   ]
  },
  {
   "attachments": {},
   "cell_type": "markdown",
   "metadata": {},
   "source": [
    "set variables for combined_ready_to_ship"
   ]
  },
  {
   "cell_type": "code",
   "execution_count": 23,
   "metadata": {},
   "outputs": [],
   "source": [
    "### phase 1\n",
    "values_order_to_ready2ship = combined_ready_to_ship[\"dur_order_to_ready2ship\"]"
   ]
  },
  {
   "cell_type": "code",
   "execution_count": 24,
   "metadata": {},
   "outputs": [
    {
     "data": {
      "text/plain": [
       "<AxesSubplot: >"
      ]
     },
     "execution_count": 24,
     "metadata": {},
     "output_type": "execute_result"
    },
    {
     "data": {
      "image/png": "[encoded data removed]",
      "text/plain": [
       "<Figure size 640x480 with 1 Axes>"
      ]
     },
     "metadata": {},
     "output_type": "display_data"
    }
   ],
   "source": [
    "values_order_to_ready2ship.plot.box()"
   ]
  },
  {
   "cell_type": "code",
   "execution_count": 25,
   "metadata": {},
   "outputs": [],
   "source": [
    "### phase 2\n",
    "values_ready2ship_to_ontruck = combined_ready_to_ship[\"dur_ready2ship_to_ontruck\"]"
   ]
  },
  {
   "cell_type": "code",
   "execution_count": 26,
   "metadata": {},
   "outputs": [
    {
     "data": {
      "text/plain": [
       "<AxesSubplot: >"
      ]
     },
     "execution_count": 26,
     "metadata": {},
     "output_type": "execute_result"
    },
    {
     "data": {
      "image/png": "[encoded data removed]",
      "text/plain": [
       "<Figure size 640x480 with 1 Axes>"
      ]
     },
     "metadata": {},
     "output_type": "display_data"
    }
   ],
   "source": [
    "values_ready2ship_to_ontruck.plot.box()"
   ]
  },
  {
   "attachments": {},
   "cell_type": "markdown",
   "metadata": {},
   "source": [
    "### work on combined_arrival\n",
    "\n",
    "* keep only relevant coloumns \n",
    "* create `weekday` columns \n",
    "* check if `order_date` is Mo-Fr\n",
    "* calculate durations"
   ]
  },
  {
   "attachments": {},
   "cell_type": "markdown",
   "metadata": {},
   "source": [
    "keep only relevant columns"
   ]
  },
  {
   "cell_type": "code",
   "execution_count": 27,
   "metadata": {},
   "outputs": [
    {
     "data": {
      "text/plain": [
       "Index(['index', 'order_id', 'order_date_x', 'ship_mode_x', 'customer_id',\n",
       "       'customer_name_x', 'origin_channel', 'country/region', 'city', 'state',\n",
       "       'postal_code', 'region', 'category', 'sub-category', 'product_id',\n",
       "       'sales', 'quantity', 'discount', 'profit', 'row_id', 'order_date_y',\n",
       "       'on_truck_scan_date', 'ship_mode_y', 'arrival_scan_date',\n",
       "       'customer_name_y'],\n",
       "      dtype='object')"
      ]
     },
     "execution_count": 27,
     "metadata": {},
     "output_type": "execute_result"
    }
   ],
   "source": [
    "combined_arrival.columns"
   ]
  },
  {
   "cell_type": "code",
   "execution_count": 28,
   "metadata": {},
   "outputs": [
    {
     "data": {
      "text/html": [
       "<div>\n",
       "<style scoped>\n",
       "    .dataframe tbody tr th:only-of-type {\n",
       "        vertical-align: middle;\n",
       "    }\n",
       "\n",
       "    .dataframe tbody tr th {\n",
       "        vertical-align: top;\n",
       "    }\n",
       "\n",
       "    .dataframe thead th {\n",
       "        text-align: right;\n",
       "    }\n",
       "</style>\n",
       "<table border=\"1\" class=\"dataframe\">\n",
       "  <thead>\n",
       "    <tr style=\"text-align: right;\">\n",
       "      <th></th>\n",
       "      <th>order_id</th>\n",
       "      <th>ship_mode</th>\n",
       "      <th>order_date</th>\n",
       "      <th>on_truck_scan_date</th>\n",
       "      <th>arrival_scan_date</th>\n",
       "    </tr>\n",
       "  </thead>\n",
       "  <tbody>\n",
       "    <tr>\n",
       "      <th>0</th>\n",
       "      <td>CA-2019-145625</td>\n",
       "      <td>Standard Class</td>\n",
       "      <td>2019-09-11</td>\n",
       "      <td>2019-09-18</td>\n",
       "      <td>2019-09-23</td>\n",
       "    </tr>\n",
       "    <tr>\n",
       "      <th>1</th>\n",
       "      <td>CA-2019-162138</td>\n",
       "      <td>Standard Class</td>\n",
       "      <td>2019-04-23</td>\n",
       "      <td>2019-05-01</td>\n",
       "      <td>2019-05-06</td>\n",
       "    </tr>\n",
       "  </tbody>\n",
       "</table>\n",
       "</div>"
      ],
      "text/plain": [
       "         order_id       ship_mode order_date on_truck_scan_date  \\\n",
       "0  CA-2019-145625  Standard Class 2019-09-11         2019-09-18   \n",
       "1  CA-2019-162138  Standard Class 2019-04-23         2019-05-01   \n",
       "\n",
       "  arrival_scan_date  \n",
       "0        2019-09-23  \n",
       "1        2019-05-06  "
      ]
     },
     "execution_count": 28,
     "metadata": {},
     "output_type": "execute_result"
    }
   ],
   "source": [
    "### keep only relevant columns for shipping time \n",
    "arrival_keepers = (['order_id', \n",
    "                    \"ship_mode_x\",\n",
    "                    \"order_date_x\",\n",
    "                    \"on_truck_scan_date\",\n",
    "                    \"arrival_scan_date\"]\n",
    "                    )\n",
    "\n",
    "combined_arrival = combined_arrival[arrival_keepers]\n",
    "\n",
    "### clean column names\n",
    "combined_arrival.columns = combined_arrival.columns.str.replace(\"_x\", \"\")\n",
    "combined_arrival.head(2)"
   ]
  },
  {
   "attachments": {},
   "cell_type": "markdown",
   "metadata": {},
   "source": [
    "create weekday"
   ]
  },
  {
   "cell_type": "code",
   "execution_count": 29,
   "metadata": {},
   "outputs": [
    {
     "data": {
      "text/html": [
       "<div>\n",
       "<style scoped>\n",
       "    .dataframe tbody tr th:only-of-type {\n",
       "        vertical-align: middle;\n",
       "    }\n",
       "\n",
       "    .dataframe tbody tr th {\n",
       "        vertical-align: top;\n",
       "    }\n",
       "\n",
       "    .dataframe thead th {\n",
       "        text-align: right;\n",
       "    }\n",
       "</style>\n",
       "<table border=\"1\" class=\"dataframe\">\n",
       "  <thead>\n",
       "    <tr style=\"text-align: right;\">\n",
       "      <th></th>\n",
       "      <th>order_id</th>\n",
       "      <th>ship_mode</th>\n",
       "      <th>order_date</th>\n",
       "      <th>on_truck_scan_date</th>\n",
       "      <th>arrival_scan_date</th>\n",
       "      <th>on_truck_weekday</th>\n",
       "      <th>on_truck_weekday_int</th>\n",
       "      <th>order_weekday</th>\n",
       "      <th>order_weekday_int</th>\n",
       "    </tr>\n",
       "  </thead>\n",
       "  <tbody>\n",
       "    <tr>\n",
       "      <th>0</th>\n",
       "      <td>CA-2019-145625</td>\n",
       "      <td>Standard Class</td>\n",
       "      <td>2019-09-11</td>\n",
       "      <td>2019-09-18</td>\n",
       "      <td>2019-09-23</td>\n",
       "      <td>Wednesday</td>\n",
       "      <td>2</td>\n",
       "      <td>Wednesday</td>\n",
       "      <td>2</td>\n",
       "    </tr>\n",
       "    <tr>\n",
       "      <th>1</th>\n",
       "      <td>CA-2019-162138</td>\n",
       "      <td>Standard Class</td>\n",
       "      <td>2019-04-23</td>\n",
       "      <td>2019-05-01</td>\n",
       "      <td>2019-05-06</td>\n",
       "      <td>Wednesday</td>\n",
       "      <td>2</td>\n",
       "      <td>Tuesday</td>\n",
       "      <td>1</td>\n",
       "    </tr>\n",
       "  </tbody>\n",
       "</table>\n",
       "</div>"
      ],
      "text/plain": [
       "         order_id       ship_mode order_date on_truck_scan_date  \\\n",
       "0  CA-2019-145625  Standard Class 2019-09-11         2019-09-18   \n",
       "1  CA-2019-162138  Standard Class 2019-04-23         2019-05-01   \n",
       "\n",
       "  arrival_scan_date on_truck_weekday  on_truck_weekday_int order_weekday  \\\n",
       "0        2019-09-23        Wednesday                     2     Wednesday   \n",
       "1        2019-05-06        Wednesday                     2       Tuesday   \n",
       "\n",
       "   order_weekday_int  \n",
       "0                  2  \n",
       "1                  1  "
      ]
     },
     "execution_count": 29,
     "metadata": {},
     "output_type": "execute_result"
    }
   ],
   "source": [
    "### create weekday columns for order_weekday & ready_to_ship_date \n",
    "### also in _int\n",
    "combined_arrival[\"on_truck_weekday\"] = combined_arrival[\"on_truck_scan_date\"].dt.day_name()\n",
    "combined_arrival[\"on_truck_weekday_int\"] = combined_arrival[\"on_truck_scan_date\"].dt.weekday\n",
    "\n",
    "combined_arrival[\"order_weekday\"] = combined_arrival[\"order_date\"].dt.day_name()\n",
    "combined_arrival[\"order_weekday_int\"] = combined_arrival[\"order_date\"].dt.weekday\n",
    "\n",
    "combined_arrival.head(2)"
   ]
  },
  {
   "attachments": {},
   "cell_type": "markdown",
   "metadata": {},
   "source": [
    "check if on_truck_weekday is mo/we/fri"
   ]
  },
  {
   "cell_type": "code",
   "execution_count": 30,
   "metadata": {},
   "outputs": [
    {
     "data": {
      "text/html": [
       "<div>\n",
       "<style scoped>\n",
       "    .dataframe tbody tr th:only-of-type {\n",
       "        vertical-align: middle;\n",
       "    }\n",
       "\n",
       "    .dataframe tbody tr th {\n",
       "        vertical-align: top;\n",
       "    }\n",
       "\n",
       "    .dataframe thead th {\n",
       "        text-align: right;\n",
       "    }\n",
       "</style>\n",
       "<table border=\"1\" class=\"dataframe\">\n",
       "  <thead>\n",
       "    <tr style=\"text-align: right;\">\n",
       "      <th></th>\n",
       "      <th>order_id</th>\n",
       "      <th>ship_mode</th>\n",
       "      <th>order_date</th>\n",
       "      <th>on_truck_scan_date</th>\n",
       "      <th>arrival_scan_date</th>\n",
       "      <th>on_truck_weekday</th>\n",
       "      <th>on_truck_weekday_int</th>\n",
       "      <th>order_weekday</th>\n",
       "      <th>order_weekday_int</th>\n",
       "      <th>truck_scan_is_mowefr</th>\n",
       "      <th>order_is_weekday</th>\n",
       "    </tr>\n",
       "  </thead>\n",
       "  <tbody>\n",
       "    <tr>\n",
       "      <th>0</th>\n",
       "      <td>CA-2019-145625</td>\n",
       "      <td>Standard Class</td>\n",
       "      <td>2019-09-11</td>\n",
       "      <td>2019-09-18</td>\n",
       "      <td>2019-09-23</td>\n",
       "      <td>Wednesday</td>\n",
       "      <td>2</td>\n",
       "      <td>Wednesday</td>\n",
       "      <td>2</td>\n",
       "      <td>1</td>\n",
       "      <td>1</td>\n",
       "    </tr>\n",
       "    <tr>\n",
       "      <th>1</th>\n",
       "      <td>CA-2019-162138</td>\n",
       "      <td>Standard Class</td>\n",
       "      <td>2019-04-23</td>\n",
       "      <td>2019-05-01</td>\n",
       "      <td>2019-05-06</td>\n",
       "      <td>Wednesday</td>\n",
       "      <td>2</td>\n",
       "      <td>Tuesday</td>\n",
       "      <td>1</td>\n",
       "      <td>1</td>\n",
       "      <td>1</td>\n",
       "    </tr>\n",
       "  </tbody>\n",
       "</table>\n",
       "</div>"
      ],
      "text/plain": [
       "         order_id       ship_mode order_date on_truck_scan_date  \\\n",
       "0  CA-2019-145625  Standard Class 2019-09-11         2019-09-18   \n",
       "1  CA-2019-162138  Standard Class 2019-04-23         2019-05-01   \n",
       "\n",
       "  arrival_scan_date on_truck_weekday  on_truck_weekday_int order_weekday  \\\n",
       "0        2019-09-23        Wednesday                     2     Wednesday   \n",
       "1        2019-05-06        Wednesday                     2       Tuesday   \n",
       "\n",
       "   order_weekday_int  truck_scan_is_mowefr  order_is_weekday  \n",
       "0                  2                     1                 1  \n",
       "1                  1                     1                 1  "
      ]
     },
     "execution_count": 30,
     "metadata": {},
     "output_type": "execute_result"
    }
   ],
   "source": [
    "### create columns with values 1 or 0 for MoWeFr or other days \n",
    "\n",
    "mo_we_fr = [0, 2, 4]\n",
    "\n",
    "combined_arrival[\"truck_scan_is_mowefr\"] = np.where(combined_arrival[\"on_truck_weekday_int\"].isin(mo_we_fr), 1, 0)\n",
    "combined_arrival[\"order_is_weekday\"] = np.where(combined_arrival[\"order_weekday_int\"].isin(mo_fr), 1, 0)\n",
    "\n",
    "combined_arrival.head(2)"
   ]
  },
  {
   "attachments": {},
   "cell_type": "markdown",
   "metadata": {},
   "source": [
    "calculate duration `dur_truck_to_arrival` \n",
    "--> how long does it take from truck scan until it is delivered (phase 3)"
   ]
  },
  {
   "cell_type": "code",
   "execution_count": 31,
   "metadata": {},
   "outputs": [
    {
     "data": {
      "text/html": [
       "<div>\n",
       "<style scoped>\n",
       "    .dataframe tbody tr th:only-of-type {\n",
       "        vertical-align: middle;\n",
       "    }\n",
       "\n",
       "    .dataframe tbody tr th {\n",
       "        vertical-align: top;\n",
       "    }\n",
       "\n",
       "    .dataframe thead th {\n",
       "        text-align: right;\n",
       "    }\n",
       "</style>\n",
       "<table border=\"1\" class=\"dataframe\">\n",
       "  <thead>\n",
       "    <tr style=\"text-align: right;\">\n",
       "      <th></th>\n",
       "      <th>order_id</th>\n",
       "      <th>ship_mode</th>\n",
       "      <th>order_date</th>\n",
       "      <th>on_truck_scan_date</th>\n",
       "      <th>arrival_scan_date</th>\n",
       "      <th>on_truck_weekday</th>\n",
       "      <th>on_truck_weekday_int</th>\n",
       "      <th>order_weekday</th>\n",
       "      <th>order_weekday_int</th>\n",
       "      <th>truck_scan_is_mowefr</th>\n",
       "      <th>order_is_weekday</th>\n",
       "      <th>dur_truck_to_arrival</th>\n",
       "    </tr>\n",
       "  </thead>\n",
       "  <tbody>\n",
       "    <tr>\n",
       "      <th>0</th>\n",
       "      <td>CA-2019-145625</td>\n",
       "      <td>Standard Class</td>\n",
       "      <td>2019-09-11</td>\n",
       "      <td>2019-09-18</td>\n",
       "      <td>2019-09-23</td>\n",
       "      <td>Wednesday</td>\n",
       "      <td>2</td>\n",
       "      <td>Wednesday</td>\n",
       "      <td>2</td>\n",
       "      <td>1</td>\n",
       "      <td>1</td>\n",
       "      <td>5</td>\n",
       "    </tr>\n",
       "    <tr>\n",
       "      <th>1</th>\n",
       "      <td>CA-2019-162138</td>\n",
       "      <td>Standard Class</td>\n",
       "      <td>2019-04-23</td>\n",
       "      <td>2019-05-01</td>\n",
       "      <td>2019-05-06</td>\n",
       "      <td>Wednesday</td>\n",
       "      <td>2</td>\n",
       "      <td>Tuesday</td>\n",
       "      <td>1</td>\n",
       "      <td>1</td>\n",
       "      <td>1</td>\n",
       "      <td>5</td>\n",
       "    </tr>\n",
       "  </tbody>\n",
       "</table>\n",
       "</div>"
      ],
      "text/plain": [
       "         order_id       ship_mode order_date on_truck_scan_date  \\\n",
       "0  CA-2019-145625  Standard Class 2019-09-11         2019-09-18   \n",
       "1  CA-2019-162138  Standard Class 2019-04-23         2019-05-01   \n",
       "\n",
       "  arrival_scan_date on_truck_weekday  on_truck_weekday_int order_weekday  \\\n",
       "0        2019-09-23        Wednesday                     2     Wednesday   \n",
       "1        2019-05-06        Wednesday                     2       Tuesday   \n",
       "\n",
       "   order_weekday_int  truck_scan_is_mowefr  order_is_weekday  \\\n",
       "0                  2                     1                 1   \n",
       "1                  1                     1                 1   \n",
       "\n",
       "   dur_truck_to_arrival  \n",
       "0                     5  \n",
       "1                     5  "
      ]
     },
     "execution_count": 31,
     "metadata": {},
     "output_type": "execute_result"
    }
   ],
   "source": [
    "combined_arrival[\"dur_truck_to_arrival\"] = (\n",
    "                                           (combined_arrival[\"arrival_scan_date\"] \n",
    "                                           - combined_arrival[\"on_truck_scan_date\"])\n",
    "                                           .dt.days\n",
    "                                           )\n",
    "\n",
    "combined_arrival.head(2)"
   ]
  },
  {
   "attachments": {},
   "cell_type": "markdown",
   "metadata": {},
   "source": [
    "calculate duration `dur_total` --> total duration from order to arrival"
   ]
  },
  {
   "cell_type": "code",
   "execution_count": 32,
   "metadata": {},
   "outputs": [
    {
     "data": {
      "text/html": [
       "<div>\n",
       "<style scoped>\n",
       "    .dataframe tbody tr th:only-of-type {\n",
       "        vertical-align: middle;\n",
       "    }\n",
       "\n",
       "    .dataframe tbody tr th {\n",
       "        vertical-align: top;\n",
       "    }\n",
       "\n",
       "    .dataframe thead th {\n",
       "        text-align: right;\n",
       "    }\n",
       "</style>\n",
       "<table border=\"1\" class=\"dataframe\">\n",
       "  <thead>\n",
       "    <tr style=\"text-align: right;\">\n",
       "      <th></th>\n",
       "      <th>order_id</th>\n",
       "      <th>ship_mode</th>\n",
       "      <th>order_date</th>\n",
       "      <th>on_truck_scan_date</th>\n",
       "      <th>arrival_scan_date</th>\n",
       "      <th>on_truck_weekday</th>\n",
       "      <th>on_truck_weekday_int</th>\n",
       "      <th>order_weekday</th>\n",
       "      <th>order_weekday_int</th>\n",
       "      <th>truck_scan_is_mowefr</th>\n",
       "      <th>order_is_weekday</th>\n",
       "      <th>dur_truck_to_arrival</th>\n",
       "      <th>dur_total</th>\n",
       "    </tr>\n",
       "  </thead>\n",
       "  <tbody>\n",
       "    <tr>\n",
       "      <th>0</th>\n",
       "      <td>CA-2019-145625</td>\n",
       "      <td>Standard Class</td>\n",
       "      <td>2019-09-11</td>\n",
       "      <td>2019-09-18</td>\n",
       "      <td>2019-09-23</td>\n",
       "      <td>Wednesday</td>\n",
       "      <td>2</td>\n",
       "      <td>Wednesday</td>\n",
       "      <td>2</td>\n",
       "      <td>1</td>\n",
       "      <td>1</td>\n",
       "      <td>5</td>\n",
       "      <td>12</td>\n",
       "    </tr>\n",
       "    <tr>\n",
       "      <th>1</th>\n",
       "      <td>CA-2019-162138</td>\n",
       "      <td>Standard Class</td>\n",
       "      <td>2019-04-23</td>\n",
       "      <td>2019-05-01</td>\n",
       "      <td>2019-05-06</td>\n",
       "      <td>Wednesday</td>\n",
       "      <td>2</td>\n",
       "      <td>Tuesday</td>\n",
       "      <td>1</td>\n",
       "      <td>1</td>\n",
       "      <td>1</td>\n",
       "      <td>5</td>\n",
       "      <td>13</td>\n",
       "    </tr>\n",
       "  </tbody>\n",
       "</table>\n",
       "</div>"
      ],
      "text/plain": [
       "         order_id       ship_mode order_date on_truck_scan_date  \\\n",
       "0  CA-2019-145625  Standard Class 2019-09-11         2019-09-18   \n",
       "1  CA-2019-162138  Standard Class 2019-04-23         2019-05-01   \n",
       "\n",
       "  arrival_scan_date on_truck_weekday  on_truck_weekday_int order_weekday  \\\n",
       "0        2019-09-23        Wednesday                     2     Wednesday   \n",
       "1        2019-05-06        Wednesday                     2       Tuesday   \n",
       "\n",
       "   order_weekday_int  truck_scan_is_mowefr  order_is_weekday  \\\n",
       "0                  2                     1                 1   \n",
       "1                  1                     1                 1   \n",
       "\n",
       "   dur_truck_to_arrival  dur_total  \n",
       "0                     5         12  \n",
       "1                     5         13  "
      ]
     },
     "execution_count": 32,
     "metadata": {},
     "output_type": "execute_result"
    }
   ],
   "source": [
    "combined_arrival[\"dur_total\"] = (\n",
    "                                (combined_arrival[\"arrival_scan_date\"] \n",
    "                                - combined_arrival[\"order_date\"])\n",
    "                                .dt.days\n",
    "                                )\n",
    "\n",
    "combined_arrival.head(2)"
   ]
  },
  {
   "attachments": {},
   "cell_type": "markdown",
   "metadata": {},
   "source": [
    "set variables for combined_arrival "
   ]
  },
  {
   "cell_type": "code",
   "execution_count": 33,
   "metadata": {},
   "outputs": [],
   "source": [
    "### phase 3\n",
    "values_truck_to_arrival = combined_arrival[\"dur_truck_to_arrival\"]"
   ]
  },
  {
   "cell_type": "code",
   "execution_count": 34,
   "metadata": {},
   "outputs": [],
   "source": [
    "### total phase \n",
    "values_total_duration = combined_arrival[\"dur_total\"]"
   ]
  },
  {
   "cell_type": "code",
   "execution_count": 35,
   "metadata": {},
   "outputs": [
    {
     "data": {
      "text/plain": [
       "<AxesSubplot: >"
      ]
     },
     "execution_count": 35,
     "metadata": {},
     "output_type": "execute_result"
    },
    {
     "data": {
      "image/png": "[encoded data removed]",
      "text/plain": [
       "<Figure size 640x480 with 1 Axes>"
      ]
     },
     "metadata": {},
     "output_type": "display_data"
    }
   ],
   "source": [
    "values_truck_to_arrival.plot.box()"
   ]
  },
  {
   "attachments": {},
   "cell_type": "markdown",
   "metadata": {},
   "source": [
    "# DF's & Variables\n",
    "* Phase 1: order date -> ready to ship\n",
    "    * combined_ready_to_ship[\"dur_order_to_ready2ship\"]\n",
    "    * values_order_to_ready2ship\n",
    "* Phase 2: ready to ship -> truck scan\n",
    "    * combined_ready_to_ship[\"dur_ready2ship_to_ontruck\"]\n",
    "    * values_ready2ship_to_ontruck\n",
    "* Phase 3: truck scan -> arrival\n",
    "    * combined_arrival[\"dur_truck_to_arrival\"]\n",
    "    * values_truck_to_arrival\n",
    "* Total: order date -> arrival date \n",
    "    * combined_arrvial[\"dur_total\"]\n",
    "    * values_total_duration"
   ]
  },
  {
   "attachments": {},
   "cell_type": "markdown",
   "metadata": {},
   "source": [
    "# Stage 1 - Correlation with Weekdays "
   ]
  },
  {
   "cell_type": "code",
   "execution_count": 36,
   "metadata": {},
   "outputs": [
    {
     "data": {
      "text/html": [
       "<div>\n",
       "<style scoped>\n",
       "    .dataframe tbody tr th:only-of-type {\n",
       "        vertical-align: middle;\n",
       "    }\n",
       "\n",
       "    .dataframe tbody tr th {\n",
       "        vertical-align: top;\n",
       "    }\n",
       "\n",
       "    .dataframe thead th {\n",
       "        text-align: right;\n",
       "    }\n",
       "</style>\n",
       "<table border=\"1\" class=\"dataframe\">\n",
       "  <thead>\n",
       "    <tr style=\"text-align: right;\">\n",
       "      <th></th>\n",
       "      <th>dur_order_to_ready2ship</th>\n",
       "      <th>order_is_weekday</th>\n",
       "      <th>truck_scan_is_mowefr</th>\n",
       "      <th>ready_to_ship_is_mowefr</th>\n",
       "    </tr>\n",
       "  </thead>\n",
       "  <tbody>\n",
       "    <tr>\n",
       "      <th>dur_order_to_ready2ship</th>\n",
       "      <td>1.000000</td>\n",
       "      <td>-0.048033</td>\n",
       "      <td>0.036734</td>\n",
       "      <td>0.150440</td>\n",
       "    </tr>\n",
       "    <tr>\n",
       "      <th>order_is_weekday</th>\n",
       "      <td>-0.048033</td>\n",
       "      <td>1.000000</td>\n",
       "      <td>0.037814</td>\n",
       "      <td>-0.059757</td>\n",
       "    </tr>\n",
       "    <tr>\n",
       "      <th>truck_scan_is_mowefr</th>\n",
       "      <td>0.036734</td>\n",
       "      <td>0.037814</td>\n",
       "      <td>1.000000</td>\n",
       "      <td>-0.039649</td>\n",
       "    </tr>\n",
       "    <tr>\n",
       "      <th>ready_to_ship_is_mowefr</th>\n",
       "      <td>0.150440</td>\n",
       "      <td>-0.059757</td>\n",
       "      <td>-0.039649</td>\n",
       "      <td>1.000000</td>\n",
       "    </tr>\n",
       "  </tbody>\n",
       "</table>\n",
       "</div>"
      ],
      "text/plain": [
       "                         dur_order_to_ready2ship  order_is_weekday  \\\n",
       "dur_order_to_ready2ship                 1.000000         -0.048033   \n",
       "order_is_weekday                       -0.048033          1.000000   \n",
       "truck_scan_is_mowefr                    0.036734          0.037814   \n",
       "ready_to_ship_is_mowefr                 0.150440         -0.059757   \n",
       "\n",
       "                         truck_scan_is_mowefr  ready_to_ship_is_mowefr  \n",
       "dur_order_to_ready2ship              0.036734                 0.150440  \n",
       "order_is_weekday                     0.037814                -0.059757  \n",
       "truck_scan_is_mowefr                 1.000000                -0.039649  \n",
       "ready_to_ship_is_mowefr             -0.039649                 1.000000  "
      ]
     },
     "execution_count": 36,
     "metadata": {},
     "output_type": "execute_result"
    }
   ],
   "source": [
    "combined_ready_to_ship[[\"dur_order_to_ready2ship\", \"order_is_weekday\", \"truck_scan_is_mowefr\", \"ready_to_ship_is_mowefr\" ]].corr()"
   ]
  },
  {
   "cell_type": "code",
   "execution_count": 37,
   "metadata": {},
   "outputs": [
    {
     "data": {
      "text/plain": [
       "order_is_weekday  truck_scan_is_mowefr  ready_to_ship_is_mowefr\n",
       "1                 1                     1                          122\n",
       "                                        0                           50\n",
       "                  0                     1                           12\n",
       "0                 1                     1                           11\n",
       "1                 0                     0                            4\n",
       "0                 1                     0                            3\n",
       "                  0                     1                            2\n",
       "dtype: int64"
      ]
     },
     "execution_count": 37,
     "metadata": {},
     "output_type": "execute_result"
    }
   ],
   "source": [
    "### check the samplesize\n",
    "combined_ready_to_ship[[\"order_is_weekday\", \"truck_scan_is_mowefr\", \"ready_to_ship_is_mowefr\" ]].value_counts()"
   ]
  },
  {
   "attachments": {},
   "cell_type": "markdown",
   "metadata": {},
   "source": [
    "# Stage 2 - Correlation with Weekdays"
   ]
  },
  {
   "cell_type": "code",
   "execution_count": 38,
   "metadata": {},
   "outputs": [
    {
     "data": {
      "text/html": [
       "<div>\n",
       "<style scoped>\n",
       "    .dataframe tbody tr th:only-of-type {\n",
       "        vertical-align: middle;\n",
       "    }\n",
       "\n",
       "    .dataframe tbody tr th {\n",
       "        vertical-align: top;\n",
       "    }\n",
       "\n",
       "    .dataframe thead th {\n",
       "        text-align: right;\n",
       "    }\n",
       "</style>\n",
       "<table border=\"1\" class=\"dataframe\">\n",
       "  <thead>\n",
       "    <tr style=\"text-align: right;\">\n",
       "      <th></th>\n",
       "      <th>dur_ready2ship_to_ontruck</th>\n",
       "      <th>order_is_weekday</th>\n",
       "      <th>truck_scan_is_mowefr</th>\n",
       "      <th>ready_to_ship_is_mowefr</th>\n",
       "    </tr>\n",
       "  </thead>\n",
       "  <tbody>\n",
       "    <tr>\n",
       "      <th>dur_ready2ship_to_ontruck</th>\n",
       "      <td>1.000000</td>\n",
       "      <td>-0.131038</td>\n",
       "      <td>-0.321759</td>\n",
       "      <td>0.330126</td>\n",
       "    </tr>\n",
       "    <tr>\n",
       "      <th>order_is_weekday</th>\n",
       "      <td>-0.131038</td>\n",
       "      <td>1.000000</td>\n",
       "      <td>0.037814</td>\n",
       "      <td>-0.059757</td>\n",
       "    </tr>\n",
       "    <tr>\n",
       "      <th>truck_scan_is_mowefr</th>\n",
       "      <td>-0.321759</td>\n",
       "      <td>0.037814</td>\n",
       "      <td>1.000000</td>\n",
       "      <td>-0.039649</td>\n",
       "    </tr>\n",
       "    <tr>\n",
       "      <th>ready_to_ship_is_mowefr</th>\n",
       "      <td>0.330126</td>\n",
       "      <td>-0.059757</td>\n",
       "      <td>-0.039649</td>\n",
       "      <td>1.000000</td>\n",
       "    </tr>\n",
       "  </tbody>\n",
       "</table>\n",
       "</div>"
      ],
      "text/plain": [
       "                           dur_ready2ship_to_ontruck  order_is_weekday  \\\n",
       "dur_ready2ship_to_ontruck                   1.000000         -0.131038   \n",
       "order_is_weekday                           -0.131038          1.000000   \n",
       "truck_scan_is_mowefr                       -0.321759          0.037814   \n",
       "ready_to_ship_is_mowefr                     0.330126         -0.059757   \n",
       "\n",
       "                           truck_scan_is_mowefr  ready_to_ship_is_mowefr  \n",
       "dur_ready2ship_to_ontruck             -0.321759                 0.330126  \n",
       "order_is_weekday                       0.037814                -0.059757  \n",
       "truck_scan_is_mowefr                   1.000000                -0.039649  \n",
       "ready_to_ship_is_mowefr               -0.039649                 1.000000  "
      ]
     },
     "execution_count": 38,
     "metadata": {},
     "output_type": "execute_result"
    }
   ],
   "source": [
    "combined_ready_to_ship[[\"dur_ready2ship_to_ontruck\", \"order_is_weekday\", \"truck_scan_is_mowefr\", \"ready_to_ship_is_mowefr\"]].corr()"
   ]
  },
  {
   "cell_type": "code",
   "execution_count": 39,
   "metadata": {},
   "outputs": [
    {
     "data": {
      "text/plain": [
       "order_is_weekday  truck_scan_is_mowefr  ready_to_ship_is_mowefr\n",
       "1                 1                     1                          122\n",
       "                                        0                           50\n",
       "                  0                     1                           12\n",
       "0                 1                     1                           11\n",
       "1                 0                     0                            4\n",
       "0                 1                     0                            3\n",
       "                  0                     1                            2\n",
       "dtype: int64"
      ]
     },
     "execution_count": 39,
     "metadata": {},
     "output_type": "execute_result"
    }
   ],
   "source": [
    "### check the samplesize\n",
    "combined_ready_to_ship[[\"order_is_weekday\", \"truck_scan_is_mowefr\", \"ready_to_ship_is_mowefr\"]].value_counts()"
   ]
  },
  {
   "attachments": {},
   "cell_type": "markdown",
   "metadata": {},
   "source": [
    "# Stage 3 - Correlation with Weekdays"
   ]
  },
  {
   "cell_type": "code",
   "execution_count": 40,
   "metadata": {},
   "outputs": [
    {
     "data": {
      "text/html": [
       "<div>\n",
       "<style scoped>\n",
       "    .dataframe tbody tr th:only-of-type {\n",
       "        vertical-align: middle;\n",
       "    }\n",
       "\n",
       "    .dataframe tbody tr th {\n",
       "        vertical-align: top;\n",
       "    }\n",
       "\n",
       "    .dataframe thead th {\n",
       "        text-align: right;\n",
       "    }\n",
       "</style>\n",
       "<table border=\"1\" class=\"dataframe\">\n",
       "  <thead>\n",
       "    <tr style=\"text-align: right;\">\n",
       "      <th></th>\n",
       "      <th>dur_truck_to_arrival</th>\n",
       "      <th>truck_scan_is_mowefr</th>\n",
       "      <th>order_is_weekday</th>\n",
       "    </tr>\n",
       "  </thead>\n",
       "  <tbody>\n",
       "    <tr>\n",
       "      <th>dur_truck_to_arrival</th>\n",
       "      <td>1.000000</td>\n",
       "      <td>-0.072926</td>\n",
       "      <td>0.197702</td>\n",
       "    </tr>\n",
       "    <tr>\n",
       "      <th>truck_scan_is_mowefr</th>\n",
       "      <td>-0.072926</td>\n",
       "      <td>1.000000</td>\n",
       "      <td>0.078553</td>\n",
       "    </tr>\n",
       "    <tr>\n",
       "      <th>order_is_weekday</th>\n",
       "      <td>0.197702</td>\n",
       "      <td>0.078553</td>\n",
       "      <td>1.000000</td>\n",
       "    </tr>\n",
       "  </tbody>\n",
       "</table>\n",
       "</div>"
      ],
      "text/plain": [
       "                      dur_truck_to_arrival  truck_scan_is_mowefr  \\\n",
       "dur_truck_to_arrival              1.000000             -0.072926   \n",
       "truck_scan_is_mowefr             -0.072926              1.000000   \n",
       "order_is_weekday                  0.197702              0.078553   \n",
       "\n",
       "                      order_is_weekday  \n",
       "dur_truck_to_arrival          0.197702  \n",
       "truck_scan_is_mowefr          0.078553  \n",
       "order_is_weekday              1.000000  "
      ]
     },
     "execution_count": 40,
     "metadata": {},
     "output_type": "execute_result"
    }
   ],
   "source": [
    "combined_arrival[[\"dur_truck_to_arrival\", \"truck_scan_is_mowefr\", \"order_is_weekday\"]].corr()"
   ]
  },
  {
   "cell_type": "code",
   "execution_count": 41,
   "metadata": {},
   "outputs": [
    {
     "data": {
      "text/plain": [
       "truck_scan_is_mowefr  order_is_weekday\n",
       "1                     1                   255\n",
       "                      0                    68\n",
       "0                     1                     6\n",
       "                      0                     4\n",
       "dtype: int64"
      ]
     },
     "execution_count": 41,
     "metadata": {},
     "output_type": "execute_result"
    }
   ],
   "source": [
    "### check the samplesize\n",
    "combined_arrival[[\"truck_scan_is_mowefr\", \"order_is_weekday\"]].value_counts()"
   ]
  },
  {
   "attachments": {},
   "cell_type": "markdown",
   "metadata": {},
   "source": [
    "# Stage 1+2 - Correlation"
   ]
  },
  {
   "cell_type": "code",
   "execution_count": 42,
   "metadata": {},
   "outputs": [
    {
     "data": {
      "text/html": [
       "<div>\n",
       "<style scoped>\n",
       "    .dataframe tbody tr th:only-of-type {\n",
       "        vertical-align: middle;\n",
       "    }\n",
       "\n",
       "    .dataframe tbody tr th {\n",
       "        vertical-align: top;\n",
       "    }\n",
       "\n",
       "    .dataframe thead th {\n",
       "        text-align: right;\n",
       "    }\n",
       "</style>\n",
       "<table border=\"1\" class=\"dataframe\">\n",
       "  <thead>\n",
       "    <tr style=\"text-align: right;\">\n",
       "      <th></th>\n",
       "      <th>dur_order_to_truck</th>\n",
       "      <th>order_is_weekday</th>\n",
       "      <th>on_truck_is_mowefr</th>\n",
       "    </tr>\n",
       "  </thead>\n",
       "  <tbody>\n",
       "    <tr>\n",
       "      <th>dur_order_to_truck</th>\n",
       "      <td>1.000000</td>\n",
       "      <td>-0.115309</td>\n",
       "      <td>-0.020374</td>\n",
       "    </tr>\n",
       "    <tr>\n",
       "      <th>order_is_weekday</th>\n",
       "      <td>-0.115309</td>\n",
       "      <td>1.000000</td>\n",
       "      <td>-0.016465</td>\n",
       "    </tr>\n",
       "    <tr>\n",
       "      <th>on_truck_is_mowefr</th>\n",
       "      <td>-0.020374</td>\n",
       "      <td>-0.016465</td>\n",
       "      <td>1.000000</td>\n",
       "    </tr>\n",
       "  </tbody>\n",
       "</table>\n",
       "</div>"
      ],
      "text/plain": [
       "                    dur_order_to_truck  order_is_weekday  on_truck_is_mowefr\n",
       "dur_order_to_truck            1.000000         -0.115309           -0.020374\n",
       "order_is_weekday             -0.115309          1.000000           -0.016465\n",
       "on_truck_is_mowefr           -0.020374         -0.016465            1.000000"
      ]
     },
     "execution_count": 42,
     "metadata": {},
     "output_type": "execute_result"
    }
   ],
   "source": [
    "combined[[\"dur_order_to_truck\", \"order_is_weekday\", \"on_truck_is_mowefr\"]].corr()"
   ]
  },
  {
   "cell_type": "code",
   "execution_count": 43,
   "metadata": {},
   "outputs": [
    {
     "data": {
      "text/plain": [
       "order_is_weekday  on_truck_is_mowefr\n",
       "1                 1                     2417\n",
       "0                 1                      462\n",
       "1                 0                      107\n",
       "0                 0                       16\n",
       "dtype: int64"
      ]
     },
     "execution_count": 43,
     "metadata": {},
     "output_type": "execute_result"
    }
   ],
   "source": [
    "combined[[\"order_is_weekday\", \"on_truck_is_mowefr\"]].value_counts()"
   ]
  },
  {
   "attachments": {},
   "cell_type": "markdown",
   "metadata": {},
   "source": [
    "# Plot Distribution of duration in all 3 shipping Stages"
   ]
  },
  {
   "cell_type": "code",
   "execution_count": 99,
   "metadata": {},
   "outputs": [],
   "source": [
    "### calculatin the number of observations for each stage\n",
    "s1_count = str(values_order_to_ready2ship.count())\n",
    "s2_count = str(values_ready2ship_to_ontruck.count())\n",
    "s3_count = str(values_truck_to_arrival.count())\n",
    "\n",
    "### set var for mean in each stage \n",
    "s1_mean = str(round(values_order_to_ready2ship.mean(),1))\n",
    "s2_mean = str(round(values_ready2ship_to_ontruck.mean(),1))\n",
    "s3_mean = str(round(values_truck_to_arrival.mean(),1))"
   ]
  },
  {
   "cell_type": "code",
   "execution_count": 100,
   "metadata": {},
   "outputs": [
    {
     "data": {
      "image/png": "[encoded data removed]",
      "text/plain": [
       "<Figure size 600x600 with 3 Axes>"
      ]
     },
     "metadata": {},
     "output_type": "display_data"
    }
   ],
   "source": [
    "sns.set_style(\"dark\")\n",
    "\n",
    "fig = plt.figure(figsize=(6,6))\n",
    "gs = fig.add_gridspec(1,3)\n",
    "ax = fig.add_subplot(gs[0, 0])\n",
    "fig.suptitle(\"Distribution of Shipping Duration in 3 Stages\")\n",
    "\n",
    "sns.violinplot(data=values_order_to_ready2ship, inner=\"quartile\")\n",
    "ax.set_xlabel(\"Warehouse \\n\\n n=\" + s1_count + \"\\n Mean= \" + s1_mean)\n",
    "ax.set_ylabel(\"Days\")\n",
    "ax.tick_params(left=True, bottom=False)\n",
    "ax.set(xticklabels=[])\n",
    "plt.ylim([0,10])\n",
    "\n",
    "\n",
    "ax = fig.add_subplot(gs[0, 1])\n",
    "sns.violinplot(data=values_ready2ship_to_ontruck, inner=\"quartile\")\n",
    "ax.set_xlabel(\"Truckload \\n\\n n=\" + s2_count + \"\\n Mean= \" + s2_mean)\n",
    "ax.set_ylabel(None)\n",
    "ax.tick_params(left=True, bottom=False)\n",
    "ax.set(xticklabels=[], yticklabels=[])\n",
    "plt.ylim([0,10])\n",
    "\n",
    "\n",
    "ax = fig.add_subplot(gs[0, 2])\n",
    "sns.violinplot(data=values_truck_to_arrival, inner=\"quartile\")\n",
    "ax.set_xlabel(\"Delivery \\n\\n n=\" + s3_count + \"\\n Mean= \" + s3_mean)\n",
    "ax.tick_params(left=True, bottom=False)\n",
    "ax.set(xticklabels=[], yticklabels=[])\n",
    "plt.ylim([0,10])\n",
    "\n",
    "plt.subplots_adjust(wspace=0) # changes space between the subplots\n",
    "\n",
    "fig.tight_layout\n",
    "plt.show()"
   ]
  },
  {
   "attachments": {},
   "cell_type": "markdown",
   "metadata": {},
   "source": [
    "# Plot Distribution of Truckload Stage (#2)\n",
    "\n",
    "* duration of Truckload Stage has the highest correlation (0.33) with specific weekdays (Mo,We,Fr)\n",
    "* show the time difference of Orders that have to wait for Truckleave on Mo/We/Fr, and those who don't"
   ]
  },
  {
   "cell_type": "code",
   "execution_count": 46,
   "metadata": {},
   "outputs": [
    {
     "data": {
      "text/html": [
       "<div>\n",
       "<style scoped>\n",
       "    .dataframe tbody tr th:only-of-type {\n",
       "        vertical-align: middle;\n",
       "    }\n",
       "\n",
       "    .dataframe tbody tr th {\n",
       "        vertical-align: top;\n",
       "    }\n",
       "\n",
       "    .dataframe thead th {\n",
       "        text-align: right;\n",
       "    }\n",
       "</style>\n",
       "<table border=\"1\" class=\"dataframe\">\n",
       "  <thead>\n",
       "    <tr style=\"text-align: right;\">\n",
       "      <th></th>\n",
       "      <th>dur_ready2ship_to_ontruck</th>\n",
       "      <th>ready_to_ship_is_mowefr</th>\n",
       "    </tr>\n",
       "  </thead>\n",
       "  <tbody>\n",
       "    <tr>\n",
       "      <th>dur_ready2ship_to_ontruck</th>\n",
       "      <td>1.000000</td>\n",
       "      <td>0.330126</td>\n",
       "    </tr>\n",
       "    <tr>\n",
       "      <th>ready_to_ship_is_mowefr</th>\n",
       "      <td>0.330126</td>\n",
       "      <td>1.000000</td>\n",
       "    </tr>\n",
       "  </tbody>\n",
       "</table>\n",
       "</div>"
      ],
      "text/plain": [
       "                           dur_ready2ship_to_ontruck  ready_to_ship_is_mowefr\n",
       "dur_ready2ship_to_ontruck                   1.000000                 0.330126\n",
       "ready_to_ship_is_mowefr                     0.330126                 1.000000"
      ]
     },
     "execution_count": 46,
     "metadata": {},
     "output_type": "execute_result"
    }
   ],
   "source": [
    "### print correlation once again\n",
    "combined_ready_to_ship[[\"dur_ready2ship_to_ontruck\", \"ready_to_ship_is_mowefr\"]].corr()"
   ]
  },
  {
   "cell_type": "code",
   "execution_count": 94,
   "metadata": {},
   "outputs": [
    {
     "data": {
      "text/plain": [
       "'1.8'"
      ]
     },
     "execution_count": 94,
     "metadata": {},
     "output_type": "execute_result"
    }
   ],
   "source": [
    "### set values (days) for Orders that are 'ready to ship' on Mo/We/Fr \n",
    "stage2_mowefr = combined_ready_to_ship[combined_ready_to_ship[\"ready_to_ship_is_mowefr\"] == 1][\"dur_ready2ship_to_ontruck\"]\n",
    "### set var for mean in plot\n",
    "s2_mean_mowefr = str(round(stage2_mowefr.mean(),1))\n",
    "s2_mean_mowefr"
   ]
  },
  {
   "cell_type": "code",
   "execution_count": 92,
   "metadata": {},
   "outputs": [
    {
     "data": {
      "text/plain": [
       "'1.1'"
      ]
     },
     "execution_count": 92,
     "metadata": {},
     "output_type": "execute_result"
    }
   ],
   "source": [
    "### set values (days) for all other Orders\n",
    "### reset index to avoid \"keyerror = 0\" - (warum auch immer..)\n",
    "stage2_other = combined_ready_to_ship[combined_ready_to_ship[\"ready_to_ship_is_mowefr\"] == 0][\"dur_ready2ship_to_ontruck\"].reset_index()[\"dur_ready2ship_to_ontruck\"]\n",
    "### set var for mean in plot\n",
    "s2_mean_other = str(round(stage2_other.mean(),1))\n",
    "s2_mean_other"
   ]
  },
  {
   "cell_type": "code",
   "execution_count": 95,
   "metadata": {},
   "outputs": [
    {
     "data": {
      "text/plain": [
       "'1.6'"
      ]
     },
     "execution_count": 95,
     "metadata": {},
     "output_type": "execute_result"
    }
   ],
   "source": [
    "### total values (days)\n",
    "stage2_total = combined_ready_to_ship[\"dur_ready2ship_to_ontruck\"]\n",
    "### set var for mean in plot\n",
    "s2_mean_total = str(round(stage2_total.mean(),1))\n",
    "s2_mean_total"
   ]
  },
  {
   "cell_type": "code",
   "execution_count": 52,
   "metadata": {},
   "outputs": [],
   "source": [
    "### calculatin the number of observations for each stage\n",
    "s2_mowefr_count = str(stage2_mowefr.count())\n",
    "s2_other_count = str(stage2_other.count())\n",
    "s2_total_count = str(stage2_total.count())\n"
   ]
  },
  {
   "cell_type": "code",
   "execution_count": 97,
   "metadata": {},
   "outputs": [
    {
     "data": {
      "image/png": "[encoded data removed]",
      "text/plain": [
       "<Figure size 600x600 with 3 Axes>"
      ]
     },
     "metadata": {},
     "output_type": "display_data"
    }
   ],
   "source": [
    "sns.set_style(\"dark\")\n",
    "\n",
    "fig = plt.figure(figsize=(6,6))\n",
    "gs = fig.add_gridspec(1,3)\n",
    "ax = fig.add_subplot(gs[0, 0])\n",
    "fig.suptitle(\"Duration of Stage 2, \\n depending on the Weekday\")\n",
    "\n",
    "sns.violinplot(data=stage2_mowefr, inner=\"quartiles\")\n",
    "ax.set_xlabel(\"Mo/We/Fr \\n\\n n=\" + s2_mowefr_count + \"\\n Mean= \" + s2_mean_mowefr)\n",
    "ax.set_ylabel(\"Days\")\n",
    "ax.tick_params(left=True, bottom=False)\n",
    "ax.set(xticklabels=[])\n",
    "plt.ylim([0,4])\n",
    "\n",
    "\n",
    "ax = fig.add_subplot(gs[0, 1])\n",
    "sns.violinplot(data=stage2_other, inner=\"quartile\")\n",
    "ax.set_xlabel(\"Other \\n\\n n=\" + s2_other_count + \"\\n Mean= \" + s2_mean_other)\n",
    "ax.tick_params(left=True, bottom=False)\n",
    "ax.set(xticklabels=[], yticklabels=[])\n",
    "plt.ylim([0,4])\n",
    "\n",
    "\n",
    "ax = fig.add_subplot(gs[0, 2])\n",
    "sns.violinplot(data=stage2_total, inner=\"quartile\")\n",
    "ax.set_xlabel(\"All days \\n\\n n=\" + s2_total_count + \"\\n Mean= \" + s2_mean_total)\n",
    "ax.tick_params(left=True, bottom=False)\n",
    "ax.set(xticklabels=[], yticklabels=[])\n",
    "plt.ylim([0,4])\n",
    "\n",
    "plt.subplots_adjust(wspace=0) # changes space between the subplots\n",
    "\n",
    "fig.tight_layout\n",
    "plt.show()"
   ]
  },
  {
   "attachments": {},
   "cell_type": "markdown",
   "metadata": {},
   "source": [
    "# Calculate & Plot Average shipping time for each class in each stage"
   ]
  },
  {
   "cell_type": "code",
   "execution_count": 136,
   "metadata": {},
   "outputs": [],
   "source": [
    "#Stage 1:\n",
    "s1_first = round(combined_ready_to_ship[combined_ready_to_ship[\"ship_mode\"] == \"First Class\"][\"dur_order_to_ready2ship\"].mean(), 1)\n",
    "s1_second = round(combined_ready_to_ship[combined_ready_to_ship[\"ship_mode\"] == \"Second Class\"][\"dur_order_to_ready2ship\"].mean(), 1)\n",
    "s1_standard = round(combined_ready_to_ship[combined_ready_to_ship[\"ship_mode\"] == \"Standard Class\"][\"dur_order_to_ready2ship\"].mean(), 1)\n",
    "s1_total = round(combined_ready_to_ship[\"dur_order_to_ready2ship\"].mean(), 1)\n",
    "stage_1 = [1, s1_first, s1_second, s1_standard, s1_total]"
   ]
  },
  {
   "cell_type": "code",
   "execution_count": 137,
   "metadata": {},
   "outputs": [],
   "source": [
    "#Stage 2:\n",
    "s2_first = round(combined_ready_to_ship[combined_ready_to_ship[\"ship_mode\"] == \"First Class\"][\"dur_ready2ship_to_ontruck\"].mean(), 1)\n",
    "s2_second = round(combined_ready_to_ship[combined_ready_to_ship[\"ship_mode\"] == \"Second Class\"][\"dur_ready2ship_to_ontruck\"].mean(), 1)\n",
    "s2_standard = round(combined_ready_to_ship[combined_ready_to_ship[\"ship_mode\"] == \"Standard Class\"][\"dur_ready2ship_to_ontruck\"].mean(), 1)\n",
    "s2_total = round(combined_ready_to_ship[\"dur_ready2ship_to_ontruck\"].mean(), 1)\n",
    "stage_2 = [2, s2_first, s2_second, s2_standard, s2_total]"
   ]
  },
  {
   "cell_type": "code",
   "execution_count": 138,
   "metadata": {},
   "outputs": [],
   "source": [
    "#Stage 3:\n",
    "s3_first = round(combined_arrival[combined_arrival[\"ship_mode\"] == \"First Class\"][\"dur_truck_to_arrival\"].mean(), 1)\n",
    "s3_second = round(combined_arrival[combined_arrival[\"ship_mode\"] == \"Second Class\"][\"dur_truck_to_arrival\"].mean(), 1)\n",
    "s3_standard = round(combined_arrival[combined_arrival[\"ship_mode\"] == \"Standard Class\"][\"dur_truck_to_arrival\"].mean(), 1)\n",
    "s3_total = round(combined_arrival[\"dur_truck_to_arrival\"].mean(), 1)\n",
    "stage_3 = [3, s3_first, s3_second, s3_standard, s3_total]"
   ]
  },
  {
   "cell_type": "code",
   "execution_count": 139,
   "metadata": {},
   "outputs": [
    {
     "data": {
      "text/plain": [
       "[1, 2.0, 3.9, 5.4, 4.2]"
      ]
     },
     "execution_count": 139,
     "metadata": {},
     "output_type": "execute_result"
    }
   ],
   "source": [
    "stage_1"
   ]
  },
  {
   "cell_type": "code",
   "execution_count": 159,
   "metadata": {},
   "outputs": [],
   "source": [
    "avg_shipping_time = pd.DataFrame([stage_1, stage_2, stage_3], columns= [\"Stage\", \"First Class\", \"Second Class\", \"Standard Class\", \"Total\"])"
   ]
  },
  {
   "cell_type": "code",
   "execution_count": 141,
   "metadata": {},
   "outputs": [
    {
     "data": {
      "text/html": [
       "<div>\n",
       "<style scoped>\n",
       "    .dataframe tbody tr th:only-of-type {\n",
       "        vertical-align: middle;\n",
       "    }\n",
       "\n",
       "    .dataframe tbody tr th {\n",
       "        vertical-align: top;\n",
       "    }\n",
       "\n",
       "    .dataframe thead th {\n",
       "        text-align: right;\n",
       "    }\n",
       "</style>\n",
       "<table border=\"1\" class=\"dataframe\">\n",
       "  <thead>\n",
       "    <tr style=\"text-align: right;\">\n",
       "      <th></th>\n",
       "      <th>Stage</th>\n",
       "      <th>First Class</th>\n",
       "      <th>Second Class</th>\n",
       "      <th>Standard Class</th>\n",
       "      <th>Total</th>\n",
       "    </tr>\n",
       "  </thead>\n",
       "  <tbody>\n",
       "    <tr>\n",
       "      <th>0</th>\n",
       "      <td>1</td>\n",
       "      <td>2.0</td>\n",
       "      <td>3.9</td>\n",
       "      <td>5.4</td>\n",
       "      <td>4.2</td>\n",
       "    </tr>\n",
       "    <tr>\n",
       "      <th>1</th>\n",
       "      <td>2</td>\n",
       "      <td>0.4</td>\n",
       "      <td>1.8</td>\n",
       "      <td>2.1</td>\n",
       "      <td>1.6</td>\n",
       "    </tr>\n",
       "    <tr>\n",
       "      <th>2</th>\n",
       "      <td>3</td>\n",
       "      <td>4.5</td>\n",
       "      <td>4.6</td>\n",
       "      <td>4.6</td>\n",
       "      <td>4.6</td>\n",
       "    </tr>\n",
       "  </tbody>\n",
       "</table>\n",
       "</div>"
      ],
      "text/plain": [
       "   Stage  First Class  Second Class  Standard Class  Total\n",
       "0      1          2.0           3.9             5.4    4.2\n",
       "1      2          0.4           1.8             2.1    1.6\n",
       "2      3          4.5           4.6             4.6    4.6"
      ]
     },
     "execution_count": 141,
     "metadata": {},
     "output_type": "execute_result"
    }
   ],
   "source": [
    "avg_shipping_time"
   ]
  },
  {
   "cell_type": "code",
   "execution_count": 160,
   "metadata": {},
   "outputs": [],
   "source": [
    "df_melt = avg_shipping_time.melt(id_vars=\"Stage\")\n",
    "\n",
    "#sns.barplot(x=avg_shipping_time.columns, y=avg_shipping_time.rows)"
   ]
  },
  {
   "cell_type": "code",
   "execution_count": 180,
   "metadata": {},
   "outputs": [
    {
     "data": {
      "text/plain": [
       "Text(0.5, 0, 'Shipping Stage')"
      ]
     },
     "execution_count": 180,
     "metadata": {},
     "output_type": "execute_result"
    },
    {
     "data": {
      "image/png": "[encoded data removed]",
      "text/plain": [
       "<Figure size 640x480 with 1 Axes>"
      ]
     },
     "metadata": {},
     "output_type": "display_data"
    }
   ],
   "source": [
    "sns.set_style(\"darkgrid\")\n",
    "plt.title(\"Average Duration in each Shipping Stage & -Class\")\n",
    "sns.set_palette(\"rocket\")\n",
    "sns.barplot(x=df_melt[\"Stage\"], y=df_melt[\"value\"], hue=df_melt[\"variable\"])\n",
    "plt.ylabel(\"Average Days\")\n",
    "plt.xlabel(\"Shipping Stage\")\n"
   ]
  },
  {
   "cell_type": "code",
   "execution_count": null,
   "metadata": {},
   "outputs": [],
   "source": []
  }
 ],
 "metadata": {
  "kernelspec": {
   "display_name": "nf_base",
   "language": "python",
   "name": "python3"
  },
  "language_info": {
   "codemirror_mode": {
    "name": "ipython",
    "version": 3
   },
   "file_extension": ".py",
   "mimetype": "text/x-python",
   "name": "python",
   "nbconvert_exporter": "python",
   "pygments_lexer": "ipython3",
   "version": "3.9.16"
  },
  "orig_nbformat": 4
 },
 "nbformat": 4,
 "nbformat_minor": 2
}
